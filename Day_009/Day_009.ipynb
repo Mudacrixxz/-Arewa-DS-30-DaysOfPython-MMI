{
 "cells": [
  {
   "attachments": {},
   "cell_type": "markdown",
   "metadata": {},
   "source": [
    "DAY 9\n",
    "\n",
    "EXERCISE LEVEL 1\n",
    "\n",
    "Question (1)"
   ]
  },
  {
   "cell_type": "code",
   "execution_count": 1,
   "metadata": {},
   "outputs": [
    {
     "name": "stdout",
     "output_type": "stream",
     "text": [
      "You are old enough to drive.\n"
     ]
    }
   ],
   "source": [
    "age = int(input('Enter your age : '))\n",
    "driver_requir = int((18))\n",
    "years_to_wait = driver_requir - age\n",
    "if age >= driver_requir:\n",
    "\tprint('You are old enough to drive.')\n",
    "else:\n",
    "\tprint('You need', (years_to_wait), 'more years to drive')\n"
   ]
  },
  {
   "attachments": {},
   "cell_type": "markdown",
   "metadata": {},
   "source": [
    "Question (2)"
   ]
  },
  {
   "cell_type": "code",
   "execution_count": 2,
   "metadata": {},
   "outputs": [
    {
     "name": "stdout",
     "output_type": "stream",
     "text": [
      "You are 23 years older than me.\n"
     ]
    }
   ],
   "source": [
    "my_age = int(input('Enter your age : '))\n",
    "your_age = int(input('Enter the other age : '))\n",
    "\n",
    "\n",
    "if my_age > your_age: \n",
    "\tif my_age - your_age == 1:\n",
    "\t\tprint('I am one year older than you.')\n",
    "\telse:\n",
    "\t\tprint(f'I am {my_age - your_age} years older than you.')\n",
    "\n",
    "if your_age == my_age: \n",
    "\t\tprint('We have thesame age')\n",
    "else:\n",
    "\tprint(f'You are {your_age - my_age} years older than me.')"
   ]
  },
  {
   "attachments": {},
   "cell_type": "markdown",
   "metadata": {},
   "source": [
    "Question (3)"
   ]
  },
  {
   "cell_type": "code",
   "execution_count": 3,
   "metadata": {},
   "outputs": [
    {
     "name": "stdout",
     "output_type": "stream",
     "text": [
      "A is less than B.\n"
     ]
    }
   ],
   "source": [
    "A = int(input('Enter first No. :'))\n",
    "B = int(input('Enter Second No. :'))\n",
    "\n",
    "if A > B:\n",
    "    print('A is greater than B.')\n",
    "elif A < B:\n",
    "    print('A is less than B.')\n",
    "else:\n",
    "    print('A is equal to B')"
   ]
  },
  {
   "attachments": {},
   "cell_type": "markdown",
   "metadata": {},
   "source": [
    "EXERCISE LEVEL 2\n",
    "\n",
    "Question (1)"
   ]
  },
  {
   "cell_type": "code",
   "execution_count": 4,
   "metadata": {},
   "outputs": [
    {
     "name": "stdout",
     "output_type": "stream",
     "text": [
      "Your grade is F\n"
     ]
    }
   ],
   "source": [
    "score = float(input('Enter Score : '))\n",
    "\n",
    "if score >= 80 and score <= 100:\n",
    "    print('Your grade is A')\n",
    "elif score >= 70 and score <= 79:\n",
    "    print('Your grade is B')\n",
    "elif score >= 60 and score <= 69:\n",
    "    print('Your grade is C')\n",
    "elif score >= 50 and score <= 59:\n",
    "    print('Your grade is D')\n",
    "else:\n",
    "   print('Your grade is F')\n"
   ]
  },
  {
   "attachments": {},
   "cell_type": "markdown",
   "metadata": {},
   "source": [
    "Question (2)"
   ]
  },
  {
   "cell_type": "code",
   "execution_count": 5,
   "metadata": {},
   "outputs": [
    {
     "name": "stdout",
     "output_type": "stream",
     "text": [
      "The season is Autumn\n"
     ]
    }
   ],
   "source": [
    "month = input('Enter season: ').capitalize()\n",
    "\n",
    "if month in ('September','October','November'):\n",
    "    print('The season is Autumn')\n",
    "elif month in ('December','January','February'):\n",
    "    print('The season is Winter')\n",
    "elif month in ('March', 'April','May'):\n",
    "    print('The season is Spring')\n",
    "elif month in ('June', 'July', 'August'):\n",
    "    print('The season is Summer')\n",
    "else: \n",
    "    print('Invalid Input')"
   ]
  },
  {
   "attachments": {},
   "cell_type": "markdown",
   "metadata": {},
   "source": [
    "Question (3)"
   ]
  },
  {
   "cell_type": "code",
   "execution_count": 6,
   "metadata": {},
   "outputs": [
    {
     "name": "stdout",
     "output_type": "stream",
     "text": [
      "That fruit already exist in the list\n"
     ]
    }
   ],
   "source": [
    "add_fruit = input('Enter fruit : ').lower()\n",
    "fruits = ['banana', 'orange', 'mango', 'lemon']\n",
    "\n",
    "if add_fruit in fruits:\n",
    "    print('That fruit already exist in the list')\n",
    "elif add_fruit not in fruits:\n",
    "    fruits.append(add_fruit)\n",
    "    print(fruits)"
   ]
  },
  {
   "attachments": {},
   "cell_type": "markdown",
   "metadata": {},
   "source": [
    "EXERCISE LEVEL 3\n",
    "\n",
    "Question (4)"
   ]
  },
  {
   "cell_type": "code",
   "execution_count": 3,
   "metadata": {},
   "outputs": [
    {
     "name": "stdout",
     "output_type": "stream",
     "text": [
      "The middle skill : MongoDB\n",
      "The person have skills\n",
      "'Python' is in skills\n",
      "Unknown title!\n",
      "Mahmud  Mahmud  lives in  Nigeria .  He is married\n"
     ]
    }
   ],
   "source": [
    "person = { \n",
    "\t'first_name': 'Mahmud', \n",
    "\t'last_name': 'Mahmud',\n",
    "\t'age': 25, \n",
    "\t'is_married': True,\n",
    "\t'skills': ['React', 'Javascript', 'MongoDB', 'Node', 'Python'],\n",
    "\t'country': 'Nigeria',\n",
    "\t'address': {\n",
    "\t\t\t\t'Naibawa street'\n",
    "\t\t\t\t'zipcode': '0909'\n",
    "\t}\n",
    "\t}\n",
    "\n",
    "'''Check if the person dictionary has skills key, \n",
    "    if so print out the middle skill in the skills list.'''\n",
    "if 'skills' in person:\n",
    "    skills_length=len(person['skills'])\n",
    "    if skills_length%2==0:\n",
    "        middle_element=person['skills'][int(((skills_length/2)-1)) : int(((skills_length/2))+1)] \n",
    "        print('The middle skill :',middle_element)\n",
    "    else:\n",
    "        middle_element2=person['skills'][skills_length//2] \n",
    "        print('The middle skill :',middle_element2)\n",
    "\n",
    "'''Check if the person dictionary has skills key, if so check if the person has 'Python' skill\n",
    "and print out the result.'''\n",
    "if 'skills' in person:\n",
    "\tprint('The person have skills')\n",
    "\tcheck = 'Python' in person['skills']\n",
    "\tif check is True:\n",
    "\t\tprint('\\'Python\\' is in skills')\n",
    "\telse:\n",
    "\t\tprint('not in skills')\n",
    "else:\n",
    "\tprint('The person doesn\\'t have skills')\n",
    "\n",
    "\n",
    "'''If a person skills has only JavaScript and React, print('He is a front end developer'),\n",
    "if the person skills has Node, Python, MongoDB, print('He is a backend developer'),\n",
    "if the person skills has React, Node and MongoDB, Print('He is a fullstack developer'),\n",
    "else print('unknown title') - for more accurate results more conditions can be nested!'''\n",
    "\n",
    "if 'JavaScript' in person['skills'] and 'React' in person['skills']:\n",
    "       print('He is a front end developer')\n",
    "elif 'Node' in person['skills'] and 'python' in person['skills'] and 'MangoDB' in person['skills']:\n",
    "    print('He is a backend developer')\n",
    "elif 'React' in person['skills'] and 'Node' in person['skills'] and 'MangoDB' in person['skills']:\n",
    "    print('He is a fullstack developer')\n",
    "else:\n",
    "    print('Unknown title!')\n",
    "\n",
    "\n",
    "'''If the person is married and if he lives in Finland, \n",
    "print the information in the following format'''\n",
    "\n",
    "if person['is_married'] is True and 'country' in person:\n",
    "\tprint(person['first_name'],'', person['last_name'], ' lives in ', person['country'],'.  He is married')\n"
   ]
  }
 ],
 "metadata": {
  "kernelspec": {
   "display_name": "Python 3",
   "language": "python",
   "name": "python3"
  },
  "language_info": {
   "codemirror_mode": {
    "name": "ipython",
    "version": 3
   },
   "file_extension": ".py",
   "mimetype": "text/x-python",
   "name": "python",
   "nbconvert_exporter": "python",
   "pygments_lexer": "ipython3",
   "version": "3.11.0"
  },
  "orig_nbformat": 4,
  "vscode": {
   "interpreter": {
    "hash": "2f1a2eacb683bb06bd5c158a4e3bf200b129d414ee0e1c88e9c74e55ea9e8d37"
   }
  }
 },
 "nbformat": 4,
 "nbformat_minor": 2
}
