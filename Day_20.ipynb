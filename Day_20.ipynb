{
 "cells": [
  {
   "attachments": {},
   "cell_type": "markdown",
   "metadata": {},
   "source": [
    "## DAY 20\n",
    "### EXERCISES"
   ]
  },
  {
   "attachments": {},
   "cell_type": "markdown",
   "metadata": {},
   "source": [
    "**Question (1)**<br>\n",
    "Read this url and find the 10 most frequent words. romeo_and_juliet = 'http://www.gutenberg.org/files/1112/1112.txt'"
   ]
  },
  {
   "cell_type": "code",
   "execution_count": 10,
   "metadata": {},
   "outputs": [
    {
     "name": "stdout",
     "output_type": "stream",
     "text": [
      "Response object: <Response [200]>\n",
      "Response status code: 200\n",
      "Response headers: {'Date': 'Mon, 27 Feb 2023 16:49:28 GMT', 'Server': 'Apache', 'Last-Modified': 'Sat, 17 Oct 2020 15:05:23 GMT', 'Accept-Ranges': 'bytes', 'Content-Length': '179410', 'Content-Type': 'text/plain'}\n",
      "Result: [(766, 'the'), (583, 'I'), (555, 'and'), (533, 'to'), (487, 'of'), (460, 'a'), (341, 'in'), (334, 'is'), (318, 'you'), (310, 'my')]\n"
     ]
    }
   ],
   "source": [
    "# importing required modules\n",
    "import re\n",
    "import requests\n",
    "url = 'http://www.gutenberg.org/files/1112/1112.txt'\n",
    "response = requests.get(url)\n",
    "print(f'Response object: {response}')\n",
    "print(f'Response status code: {response.status_code}')\n",
    "print(f'Response headers: {response.headers}')\n",
    "text = response.text\n",
    "text = re.sub(r'[^\\w\\s]','',text)\n",
    "words = text.split()\n",
    "words_dict = {}\n",
    "for word in words:\n",
    "    words_dict[word] = words_dict.get(word,0) + 1\n",
    "words_sorted = sorted(words_dict.items(),key=lambda x:x[1],reverse=True)\n",
    "result = [(word[1],word[0]) for word in words_sorted]\n",
    "print(f'Result: {result[:10]}')\n"
   ]
  },
  {
   "cell_type": "markdown",
   "metadata": {},
   "source": []
  }
 ],
 "metadata": {
  "kernelspec": {
   "display_name": "Python 3",
   "language": "python",
   "name": "python3"
  },
  "language_info": {
   "codemirror_mode": {
    "name": "ipython",
    "version": 3
   },
   "file_extension": ".py",
   "mimetype": "text/x-python",
   "name": "python",
   "nbconvert_exporter": "python",
   "pygments_lexer": "ipython3",
   "version": "3.10.8"
  },
  "orig_nbformat": 4,
  "vscode": {
   "interpreter": {
    "hash": "fa2bdf7561d8d60c40fbb5bf830ea182e95f6f248050aed925ff7a2119deb876"
   }
  }
 },
 "nbformat": 4,
 "nbformat_minor": 2
}
