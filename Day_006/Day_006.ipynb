{
 "cells": [
  {
   "attachments": {},
   "cell_type": "markdown",
   "metadata": {},
   "source": [
    "DAY 6\n",
    "\n",
    "EXERCISE LEVEL 1\n",
    "\n",
    "Question (1 - 5)"
   ]
  },
  {
   "cell_type": "code",
   "execution_count": 16,
   "metadata": {},
   "outputs": [
    {
     "name": "stdout",
     "output_type": "stream",
     "text": [
      "()\n",
      "('Ali', 'Musa', 'Isah', 'Ahmad', 'Ilham', 'Maryam', 'Tasnim', 'Amina')\n",
      "I have  8  siblings\n",
      "My Family Members are :\n",
      "('Mahmud', 'Mariya', 'Ali', 'Musa', 'Isah', 'Ahmad', 'Ilham', 'Maryam', 'Tasnim', 'Amina')\n"
     ]
    }
   ],
   "source": [
    "my_tpl = tuple()\n",
    "print(my_tpl)\n",
    "\n",
    "\n",
    "bros = ('Ali', 'Musa', 'Isah', 'Ahmad') #My male siblings\n",
    "sis = ('Ilham', 'Maryam', 'Tasnim', 'Amina') #My female siblings\n",
    "\n",
    "siblings = bros + sis #Joining the two\n",
    "print(siblings)\n",
    "\n",
    "len_siblings = len(siblings) #Finding the lenght of siblings\n",
    "print('I have ', len_siblings, ' siblings')\n",
    "\n",
    "siblings = list(siblings) #Converting tuple to list\n",
    "\n",
    "siblings.insert(0, 'Mahmud') #Adding to family members\n",
    "siblings.insert(1, 'Mariya') #Adding to family members\n",
    "\n",
    "siblings = tuple(siblings) #Converting list to tuples\n",
    "\n",
    "family_members = siblings #Assigning siblings to family members after adding parrent\n",
    "print('My Family Members are :')\n",
    "print(family_members)\n"
   ]
  },
  {
   "attachments": {},
   "cell_type": "markdown",
   "metadata": {},
   "source": [
    "EXERCISE LEVEL 2\n",
    "\n",
    "Question(1 - 7)"
   ]
  },
  {
   "cell_type": "code",
   "execution_count": 29,
   "metadata": {},
   "outputs": [
    {
     "name": "stdout",
     "output_type": "stream",
     "text": [
      "('Apple', 'Banana', 'Orange', 'Cabbage', 'Tomato', 'Carrot', 'Ram', 'Goat', 'Cow')\n",
      "The middle item is : Tomato\n",
      "The first Three items are : ['Apple', 'Banana', 'Orange']\n",
      "The last Three items are : ['Ram', 'Goat', 'Cow']\n",
      "True\n"
     ]
    }
   ],
   "source": [
    "#tuples of fruit, vegetable and animal\n",
    "fruit = ('Apple', 'Banana', 'Orange')\n",
    "vegetable = ('Cabbage', 'Tomato', 'Carrot')\n",
    "animal = ('Ram', 'Goat', 'Cow')\n",
    "\n",
    "\n",
    "#Adding the 3 tuple in one place and assigning it a new variable food_stuff_it\n",
    "food_stuff_it = fruit + vegetable + animal  \n",
    "print(food_stuff_it)\n",
    "\n",
    "\n",
    "food_stuff_it = list(food_stuff_it) #Converting to list\n",
    "\n",
    "\n",
    "print('The middle item is :',food_stuff_it[4]) #Slicing the middle item\n",
    "print('The first Three items are :',food_stuff_it[0:3]) #Slicing the first three items\n",
    "print('The last Three items are :',food_stuff_it[-3:]) #Slicing the last three item\n",
    "\n",
    "print('Apple' in food_stuff_it) #Checking if item exist"
   ]
  },
  {
   "cell_type": "code",
   "execution_count": 30,
   "metadata": {},
   "outputs": [
    {
     "name": "stdout",
     "output_type": "stream",
     "text": [
      "False\n",
      "True\n"
     ]
    }
   ],
   "source": [
    "nordic_countries = ('Denmark', 'Finland', 'Iceland', 'Norway', 'Sweden')\n",
    "\n",
    "print('Estonia' in nordic_countries) #checking if Estonia is a nordic Country\n",
    "print('Iceland' in nordic_countries)"
   ]
  }
 ],
 "metadata": {
  "kernelspec": {
   "display_name": "Python 3",
   "language": "python",
   "name": "python3"
  },
  "language_info": {
   "codemirror_mode": {
    "name": "ipython",
    "version": 3
   },
   "file_extension": ".py",
   "mimetype": "text/x-python",
   "name": "python",
   "nbconvert_exporter": "python",
   "pygments_lexer": "ipython3",
   "version": "3.11.0"
  },
  "orig_nbformat": 4,
  "vscode": {
   "interpreter": {
    "hash": "2f1a2eacb683bb06bd5c158a4e3bf200b129d414ee0e1c88e9c74e55ea9e8d37"
   }
  }
 },
 "nbformat": 4,
 "nbformat_minor": 2
}
