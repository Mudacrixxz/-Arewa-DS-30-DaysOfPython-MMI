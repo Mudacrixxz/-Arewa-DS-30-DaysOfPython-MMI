{
 "cells": [
  {
   "attachments": {},
   "cell_type": "markdown",
   "metadata": {},
   "source": [
    "DAY 10\n",
    "\n",
    "EXERCISE LEVEL 1\n",
    "\n",
    "Question (1)"
   ]
  },
  {
   "cell_type": "code",
   "execution_count": 2,
   "metadata": {},
   "outputs": [
    {
     "name": "stdout",
     "output_type": "stream",
     "text": [
      "0\n",
      "1\n",
      "2\n",
      "3\n",
      "4\n",
      "5\n",
      "6\n",
      "7\n",
      "8\n",
      "9\n",
      "10\n",
      "------------------------------------------------------------\n",
      "0\n",
      "1\n",
      "2\n",
      "3\n",
      "4\n",
      "5\n",
      "6\n",
      "7\n",
      "8\n",
      "9\n",
      "10\n"
     ]
    }
   ],
   "source": [
    "#For loop 10 down to 0\n",
    "for i in range(11):\n",
    "    print(i)\n",
    "\n",
    "print('---'*20)\n",
    "\n",
    "#While loop 10 down to 0\n",
    "i = 0\n",
    "while i < 11:\n",
    "    print(i)\n",
    "    i += 1"
   ]
  },
  {
   "attachments": {},
   "cell_type": "markdown",
   "metadata": {},
   "source": [
    "Question (2)"
   ]
  },
  {
   "cell_type": "code",
   "execution_count": 1,
   "metadata": {},
   "outputs": [
    {
     "name": "stdout",
     "output_type": "stream",
     "text": [
      "10\n",
      "9\n",
      "8\n",
      "7\n",
      "6\n",
      "5\n",
      "4\n",
      "3\n",
      "2\n",
      "1\n",
      "0\n",
      "------------------------------------------------------------\n",
      "10\n",
      "9\n",
      "8\n",
      "7\n",
      "6\n",
      "5\n",
      "4\n",
      "3\n",
      "2\n",
      "1\n",
      "0\n"
     ]
    }
   ],
   "source": [
    "#for loop 10 down to 0\n",
    "for i in reversed(range(11)):\n",
    "\tprint(i)\n",
    "\t\n",
    "\n",
    "print('---'*20)\n",
    "\n",
    "#while loop 10 down to 0\n",
    "i = 10\n",
    "while i >= 0:\n",
    "\tprint(i)\n",
    "\ti -= 1"
   ]
  },
  {
   "attachments": {},
   "cell_type": "markdown",
   "metadata": {},
   "source": [
    "Question (3 - 4)"
   ]
  },
  {
   "cell_type": "code",
   "execution_count": 3,
   "metadata": {},
   "outputs": [
    {
     "name": "stdout",
     "output_type": "stream",
     "text": [
      "# \n",
      "# # \n",
      "# # # \n",
      "# # # # \n",
      "# # # # # \n",
      "# # # # # # \n",
      "# # # # # # # \n",
      "________________________________________ \n",
      "\n",
      "\n",
      "# \n",
      "# # \n",
      "# # # \n",
      "# # # # \n",
      "# # # # # \n",
      "# # # # # # \n",
      "# # # # # # # \n",
      "________________________________________ \n",
      "\n",
      "# # # # # # # #\n",
      "# # # # # # # #\n",
      "# # # # # # # #\n",
      "# # # # # # # #\n",
      "# # # # # # # #\n",
      "# # # # # # # #\n",
      "# # # # # # # #\n",
      "# # # # # # # #\n"
     ]
    }
   ],
   "source": [
    "a = 7\n",
    "for i in range(0, a):\n",
    "\tfor j in range(0, i + 1):\n",
    "\t\tprint('#', end=' ' )\n",
    "\tprint('\\r')\n",
    "\n",
    "print('__' * 20, '\\n')\n",
    "\n",
    "for i in range (8):\n",
    "\tprint('# ' * i)\n",
    "\n",
    "print('__' * 20, '\\n')\n",
    "\n",
    "b = '# # # # # # # #', '# # # # # # # #', '# # # # # # # #', '# # # # # # # #', '# # # # # # # #', '# # # # # # # #', '# # # # # # # #','# # # # # # # #'\n",
    "\n",
    "for i in b:\n",
    "\tprint(i)"
   ]
  },
  {
   "attachments": {},
   "cell_type": "markdown",
   "metadata": {},
   "source": [
    "Question (5)"
   ]
  },
  {
   "cell_type": "code",
   "execution_count": 4,
   "metadata": {},
   "outputs": [
    {
     "name": "stdout",
     "output_type": "stream",
     "text": [
      "0 * 0 = 0\n",
      "1 * 1 = 1\n",
      "2 * 2 = 4\n",
      "3 * 3 = 9\n",
      "4 * 4 = 16\n",
      "5 * 5 = 25\n",
      "6 * 6 = 36\n",
      "7 * 7 = 49\n",
      "8 * 8 = 64\n",
      "9 * 9 = 81\n",
      "10 * 10 = 100\n"
     ]
    }
   ],
   "source": [
    "for x in range(11):\n",
    "    print(f\"{x} * {x} = {x*x}\")\n"
   ]
  },
  {
   "attachments": {},
   "cell_type": "markdown",
   "metadata": {},
   "source": [
    "Question (6 - 8)"
   ]
  },
  {
   "cell_type": "code",
   "execution_count": 63,
   "metadata": {},
   "outputs": [
    {
     "name": "stdout",
     "output_type": "stream",
     "text": [
      "Python\n",
      "Numpy\n",
      "Pandas\n",
      "Django\n",
      "Flask\n",
      "____________________________________________________________________________________________________________________________________________ \n",
      "\n",
      "0 2 4 6 8 10 12 14 16 18 20 22 24 26 28 30 32 34 36 38 40 42 44 46 48 50 52 54 56 58 60 62 64 66 68 70 72 74 76 78 80 82 84 86 88 90 92 94 96 98 100 ____________________________________________________________________________________________________________________________________________ \n",
      "\n",
      "1 3 5 7 9 11 13 15 17 19 21 23 25 27 29 31 33 35 37 39 41 43 45 47 49 51 53 55 57 59 61 63 65 67 69 71 73 75 77 79 81 83 85 87 89 91 93 95 97 99 "
     ]
    }
   ],
   "source": [
    "L = ['Python', 'Numpy', 'Pandas', 'Django', 'Flask']\n",
    "\n",
    "for i in L:\n",
    "    print(i)\n",
    "    \n",
    "print('__' * 70, '\\n')\n",
    "\n",
    "#from 0 to 100 even only\n",
    "for i in range(0, 101, 2):\n",
    "    print(i, end=\" \")\n",
    "\n",
    "print('__' * 70, '\\n')\n",
    "\n",
    "#from 0 to 100 odd only\n",
    "for i in range(1, 101, 2):\n",
    "    print(i, end=\" \")"
   ]
  },
  {
   "attachments": {},
   "cell_type": "markdown",
   "metadata": {},
   "source": [
    "EXERCISE LEVEL 2\n",
    "\n",
    "Question (1)"
   ]
  },
  {
   "cell_type": "code",
   "execution_count": 90,
   "metadata": {},
   "outputs": [
    {
     "name": "stdout",
     "output_type": "stream",
     "text": [
      "The sum of from 1 to 100 is:  5050\n"
     ]
    }
   ],
   "source": [
    "num = 100\n",
    "sum = 0\n",
    "\n",
    "for value in range(1, num + 1):\n",
    "    sum += value\n",
    "print('The sum of from 1 to 100 is: ', sum)"
   ]
  },
  {
   "attachments": {},
   "cell_type": "markdown",
   "metadata": {},
   "source": [
    "Question (2)"
   ]
  },
  {
   "cell_type": "code",
   "execution_count": 4,
   "metadata": {},
   "outputs": [
    {
     "name": "stdout",
     "output_type": "stream",
     "text": [
      "The sum of even from 1 to 100 is:  2550.  And the sum of odd from 1 to 100 is:  2500\n"
     ]
    }
   ],
   "source": [
    "#Sum of all Even Numbers  \n",
    "num = 100\n",
    "even = 0\n",
    "odd = 0\n",
    "for i in range(1, num + 1):\n",
    "    if ((i % 2) == 0):\n",
    "    \teven += i \n",
    "#Sum of all Odd Numbers        \n",
    "for i in range(1, num + 1):\n",
    "    if ((i % 2) != 0):\n",
    "    \todd += i\n",
    "print('The sum of even from 1 to 100 is:  {}.  And the sum of odd from 1 to 100 is:  {}'.format(even,odd))"
   ]
  },
  {
   "attachments": {},
   "cell_type": "markdown",
   "metadata": {},
   "source": [
    "EXERCISE LEVEL 3\n",
    "\n",
    "Question (1)"
   ]
  },
  {
   "cell_type": "code",
   "execution_count": 2,
   "metadata": {},
   "outputs": [
    {
     "name": "stdout",
     "output_type": "stream",
     "text": [
      "Finland\n",
      "Iceland\n",
      "Ireland\n",
      "Marshall Islands\n",
      "Netherlands\n",
      "New Zealand\n",
      "Poland\n",
      "Solomon Islands\n",
      "Swaziland\n",
      "Switzerland\n",
      "Thailand\n"
     ]
    }
   ],
   "source": [
    "from country_list import countries\n",
    "for country in countries:\n",
    "    if 'land' in country:\n",
    "        print(country)"
   ]
  },
  {
   "attachments": {},
   "cell_type": "markdown",
   "metadata": {},
   "source": [
    "Question (2)"
   ]
  },
  {
   "cell_type": "code",
   "execution_count": 99,
   "metadata": {},
   "outputs": [
    {
     "name": "stdout",
     "output_type": "stream",
     "text": [
      "Lemon\n",
      "Mango\n",
      "Orange\n",
      "Banana\n"
     ]
    }
   ],
   "source": [
    "fruits = ['Banana', 'Orange', 'Mango', 'Lemon' ]\n",
    "fruits.reverse()\n",
    "for fruit in fruits:\n",
    "    print(fruit)"
   ]
  },
  {
   "attachments": {},
   "cell_type": "markdown",
   "metadata": {},
   "source": [
    "Question 3  (01, 02, 03)"
   ]
  },
  {
   "cell_type": "code",
   "execution_count": 4,
   "metadata": {},
   "outputs": [
    {
     "name": "stdout",
     "output_type": "stream",
     "text": [
      "The total number of language in the data is:  112 languages\n",
      "English:  91 \n",
      "French:  45 \n",
      "Arabic:  25 \n",
      "Spanish:  24 \n",
      "Portuguese:  9 \n",
      "Russian:  9 \n",
      "Dutch:  8 \n",
      "German:  7 \n",
      "Chinese:  5 \n",
      "Italian and Swahili:  4\n",
      "\n",
      " __________________________________________________________________________________________ \n",
      "\n",
      "The 10 most populated countries in the world are: \n",
      " ['Bangladesh', 'Brazil', 'China', 'India', 'Indonesia', 'Japan', 'Nigeria', 'Pakistan', 'Russian Federation', 'United States of America']\n"
     ]
    }
   ],
   "source": [
    "from country_data import countries_data\n",
    "lst = []\n",
    "\n",
    "for data in countries_data:\n",
    "\tfor lang in data['languages']:\n",
    "\t\tlst.append(lang)\n",
    "lst_set = set(lst)\n",
    "print('The total number of language in the data is: ', len(lst_set), 'languages')\n",
    "\n",
    "\n",
    "print(\"English: \",lst.count(\"English\"),\"\\nFrench: \",lst.count(\"French\"), \"\\nArabic: \",lst.count(\"Arabic\"),\"\\nSpanish: \",lst.count(\"Spanish\"), \"\\nPortuguese: \", lst.count(\"Portuguese\"), \"\\nRussian: \",lst.count('Russian'),\"\\nDutch: \",lst.count(\"Dutch\"), \"\\nGerman: \",lst.count(\"German\"),\"\\nChinese: \",lst.count(\"Chinese\"),\"\\nItalian and Swahili: \", lst.count(\"Italian\" and \"Swahili\"))\n",
    "\n",
    "print('\\n','___' *30,  '\\n')\n",
    "\n",
    "lst1=[]\n",
    "for data in countries_data:\n",
    "    population=data[\"population\"]\n",
    "    country=data[\"name\"]\n",
    "    if population>125000000:\n",
    "        lst1.append(country)\n",
    "        \n",
    "print(\"The 10 most populated countries in the world are: \\n\", lst1)"
   ]
  }
 ],
 "metadata": {
  "kernelspec": {
   "display_name": "Python 3",
   "language": "python",
   "name": "python3"
  },
  "language_info": {
   "codemirror_mode": {
    "name": "ipython",
    "version": 3
   },
   "file_extension": ".py",
   "mimetype": "text/x-python",
   "name": "python",
   "nbconvert_exporter": "python",
   "pygments_lexer": "ipython3",
   "version": "3.11.0"
  },
  "orig_nbformat": 4,
  "vscode": {
   "interpreter": {
    "hash": "2f1a2eacb683bb06bd5c158a4e3bf200b129d414ee0e1c88e9c74e55ea9e8d37"
   }
  }
 },
 "nbformat": 4,
 "nbformat_minor": 2
}
