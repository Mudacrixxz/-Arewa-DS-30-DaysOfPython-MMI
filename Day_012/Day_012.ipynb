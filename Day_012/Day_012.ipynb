{
 "cells": [
  {
   "attachments": {},
   "cell_type": "markdown",
   "metadata": {},
   "source": [
    "DAY 12\n",
    "\n",
    "EXERCISE LEVEL 1\n",
    "\n",
    "Question (1)\n",
    "Write a function which generates a six digit/character random_user_id."
   ]
  },
  {
   "cell_type": "code",
   "execution_count": 1,
   "metadata": {},
   "outputs": [
    {
     "name": "stdout",
     "output_type": "stream",
     "text": [
      "ID:  CbsG0q\n"
     ]
    }
   ],
   "source": [
    "import random as rn\n",
    "import string as st\n",
    "def random_user_id():\n",
    "    return \"\".join(str(rn.choice(st.ascii_letters + st.digits)) for i in range(6))\n",
    "\n",
    "\n",
    "print('ID: ', random_user_id())"
   ]
  },
  {
   "attachments": {},
   "cell_type": "markdown",
   "metadata": {},
   "source": [
    "Question (2)\n",
    "\n",
    "Modify the previous task. Declare a function named user_id_gen_by_user. It doesn’t take any parameters but it takes two inputs using input(). One of the inputs is the number of characters and the second input is the number of IDs which are supposed to be generated."
   ]
  },
  {
   "cell_type": "code",
   "execution_count": 10,
   "metadata": {},
   "outputs": [
    {
     "data": {
      "text/plain": [
       "['By0', 'A6p', 'xnJ', 'quo']"
      ]
     },
     "execution_count": 10,
     "metadata": {},
     "output_type": "execute_result"
    }
   ],
   "source": [
    "def random_user_id_gen_by_user():\n",
    "    x = int(input(\"Enter the number of characters: \"))\n",
    "    y = int(input(\"Enter the number of IDs: \"))\n",
    "    return [\"\".join(str(rn.choice(st.ascii_letters + st.digits)) for a in range(x)) for b in range(y)]\n",
    "\n",
    "random_user_id_gen_by_user()"
   ]
  },
  {
   "attachments": {},
   "cell_type": "markdown",
   "metadata": {},
   "source": [
    "Question (3)\n",
    "\n",
    "Write a function named rgb_color_gen. It will generate rgb colors (3 values ranging from 0 to 255 each)."
   ]
  },
  {
   "cell_type": "code",
   "execution_count": 11,
   "metadata": {},
   "outputs": [
    {
     "name": "stdout",
     "output_type": "stream",
     "text": [
      "rgb(63,182,21)\n"
     ]
    }
   ],
   "source": [
    "def rgb_color_gen():\n",
    "    b = ','.join(str(rn.randint(0,255)) for a in range(3))\n",
    "    return 'rgb('+ b + ')'\n",
    "\n",
    "print(rgb_color_gen())"
   ]
  },
  {
   "attachments": {},
   "cell_type": "markdown",
   "metadata": {},
   "source": [
    "EXERCISE LEVEL 2\n",
    "\n",
    "Question (1)\n",
    "\n",
    "Write a function list_of_hexa_colors which returns any number of hexadecimal colors in an array (six hexadecimal numbers written after #. Hexadecimal numeral system is made out of 16 symbols, 0-9 and first 6 letters of the alphabet, a-f. Check the task 6 for output examples)."
   ]
  },
  {
   "cell_type": "code",
   "execution_count": 13,
   "metadata": {},
   "outputs": [
    {
     "data": {
      "text/plain": [
       "['#be9d42', '#8357ae', '#7393f4', '#2e0bb1', '#4670b9', '#5b3056']"
      ]
     },
     "execution_count": 13,
     "metadata": {},
     "output_type": "execute_result"
    }
   ],
   "source": [
    "def list_of_hexa_colors(x):\n",
    "     y = [\"\".join(str(rn.choice('abcdef' + st.digits)) for c in range(6)) for d in range(x)]\n",
    "     z =['#' + item for item in y]\n",
    "     return z\n",
    "list_of_hexa_colors(6)"
   ]
  },
  {
   "attachments": {},
   "cell_type": "markdown",
   "metadata": {},
   "source": [
    "Question (2)\n",
    "\n",
    "Write a function list_of_rgb_colors which returns any number of RGB colors in an array."
   ]
  },
  {
   "cell_type": "code",
   "execution_count": 14,
   "metadata": {},
   "outputs": [
    {
     "data": {
      "text/plain": [
       "['rgb(106,25,184)',\n",
       " 'rgb(165,212,14)',\n",
       " 'rgb(178,30,207)',\n",
       " 'rgb(181,53,100)',\n",
       " 'rgb(244,116,192)',\n",
       " 'rgb(111,202,38)',\n",
       " 'rgb(71,112,96)']"
      ]
     },
     "execution_count": 14,
     "metadata": {},
     "output_type": "execute_result"
    }
   ],
   "source": [
    "def list_of_rgb_colors(y):\n",
    "    return [rgb_color_gen() for a in range(y)]\n",
    "\n",
    "list_of_rgb_colors(7)"
   ]
  }
 ],
 "metadata": {
  "kernelspec": {
   "display_name": "Python 3",
   "language": "python",
   "name": "python3"
  },
  "language_info": {
   "codemirror_mode": {
    "name": "ipython",
    "version": 3
   },
   "file_extension": ".py",
   "mimetype": "text/x-python",
   "name": "python",
   "nbconvert_exporter": "python",
   "pygments_lexer": "ipython3",
   "version": "3.11.0"
  },
  "orig_nbformat": 4,
  "vscode": {
   "interpreter": {
    "hash": "2f1a2eacb683bb06bd5c158a4e3bf200b129d414ee0e1c88e9c74e55ea9e8d37"
   }
  }
 },
 "nbformat": 4,
 "nbformat_minor": 2
}
