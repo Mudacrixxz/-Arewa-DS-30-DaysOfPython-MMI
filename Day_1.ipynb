{
 "cells": [
  {
   "attachments": {},
   "cell_type": "markdown",
   "metadata": {},
   "source": [
    "DAY 1\n",
    "\n",
    "EXERCISE: LEVEL TWO\n",
    "\n",
    "Question (2):"
   ]
  },
  {
   "cell_type": "code",
   "execution_count": 1,
   "metadata": {},
   "outputs": [
    {
     "name": "stdout",
     "output_type": "stream",
     "text": [
      "7\n",
      "1\n",
      "12\n",
      "1.3333333333333333\n",
      "1\n",
      "1\n",
      "64\n"
     ]
    }
   ],
   "source": [
    "print(3 + 4)        # addition(+)\n",
    "print(4 - 3 )       # subtraction(-)\n",
    "print(3 * 4)        # multiplication(*)\n",
    "print(4 / 3)        # division(/)\n",
    "print(4 % 3)        # modulus(%) - it print remainder\n",
    "print(4 // 3)       # floor division(//) - it removes the remainder\n",
    "print(4 ** 3)       # exponential(**) - equivalent to  4^3 = 4*4*4"
   ]
  },
  {
   "cell_type": "markdown",
   "metadata": {},
   "source": [
    "Question (3)"
   ]
  },
  {
   "cell_type": "code",
   "execution_count": 2,
   "metadata": {},
   "outputs": [],
   "source": [
    "\n",
    "'''Writing strings on python'''\n",
    "\n",
    "FirstName = 'Mahmud'\n",
    "LastName = 'Mahmud'\n",
    "country = 'Nigeria'\n",
    "comment = 'I am enjoying 30 days of python'"
   ]
  },
  {
   "attachments": {},
   "cell_type": "markdown",
   "metadata": {},
   "source": [
    "Question (4)"
   ]
  },
  {
   "cell_type": "code",
   "execution_count": 6,
   "metadata": {},
   "outputs": [
    {
     "name": "stdout",
     "output_type": "stream",
     "text": [
      "<class 'int'>\n",
      "<class 'float'>\n",
      "<class 'float'>\n",
      "<class 'complex'>\n",
      "<class 'list'>\n",
      "<class 'str'>\n",
      "<class 'str'>\n",
      "<class 'str'>\n"
     ]
    }
   ],
   "source": [
    "'''Checking Data Types'''\n",
    "\n",
    "print(type(10))                     #int\n",
    "print(type(9.8))                    #float\n",
    "print(type(3.14))                   #float\n",
    "print(type(4 - 4j))                 #complex\n",
    "print(type(['Asabeneh', 'Python', 'Finland']))      #list\n",
    "print(type('Mahmud'))               #string\n",
    "print(type('Mahmud'))               #string\n",
    "print(type('Nigeria'))              #string"
   ]
  },
  {
   "attachments": {},
   "cell_type": "markdown",
   "metadata": {},
   "source": [
    "EXERCISE: LEVEL THREE\n",
    "\n",
    "Question (1)"
   ]
  },
  {
   "cell_type": "code",
   "execution_count": 4,
   "metadata": {},
   "outputs": [
    {
     "name": "stdout",
     "output_type": "stream",
     "text": [
      "20\n",
      "30.4\n",
      "(40+4j)\n",
      "Mahmud\n",
      "True\n",
      "{2, 4, 6, 8, 10}\n",
      "['apple', 'banana', 'mango']\n",
      "('apple', 'banana', 'mango')\n",
      "{'Name': 'Mahmud', 'Country': 'nigeria', 'Age': 20}\n"
     ]
    }
   ],
   "source": [
    "'''Examples of python diffrent Data Types'''\n",
    "print(20)                   #int\n",
    "print(30.40)                #float\n",
    "print(40 + 4j)              #complex\n",
    "print('Mahmud')             #string\n",
    "print(True)                 #boolean\n",
    "print(({2,4,6,8,10}))       #set\n",
    "print(['apple', 'banana', 'mango'])     #list\n",
    "print(('apple', 'banana', 'mango'))     #tuple\n",
    "print(({'Name': 'Mahmud','Country': 'Nigeria','Age': 20,}))  #dict"
   ]
  },
  {
   "attachments": {},
   "cell_type": "markdown",
   "metadata": {},
   "source": [
    "Question (2)"
   ]
  },
  {
   "cell_type": "code",
   "execution_count": 1,
   "metadata": {},
   "outputs": [
    {
     "name": "stdout",
     "output_type": "stream",
     "text": [
      "The Euclidean distance :  9.433981132056603\n"
     ]
    }
   ],
   "source": [
    "\n",
    "'''Calculate the Euclidean distance'''  \n",
    "\n",
    "import math\n",
    "\n",
    "p = [2, 3]\n",
    "q = [10, 8]\n",
    "\n",
    "print ('The Euclidean distance : ', math.dist(p, q))\n",
    "#Output = 9.433981132056603"
   ]
  }
 ],
 "metadata": {
  "kernelspec": {
   "display_name": "Python 3.11.0 64-bit",
   "language": "python",
   "name": "python3"
  },
  "language_info": {
   "codemirror_mode": {
    "name": "ipython",
    "version": 3
   },
   "file_extension": ".py",
   "mimetype": "text/x-python",
   "name": "python",
   "nbconvert_exporter": "python",
   "pygments_lexer": "ipython3",
   "version": "3.11.0 (main, Oct 24 2022, 18:26:48) [MSC v.1933 64 bit (AMD64)]"
  },
  "orig_nbformat": 4,
  "vscode": {
   "interpreter": {
    "hash": "2f1a2eacb683bb06bd5c158a4e3bf200b129d414ee0e1c88e9c74e55ea9e8d37"
   }
  }
 },
 "nbformat": 4,
 "nbformat_minor": 2
}
