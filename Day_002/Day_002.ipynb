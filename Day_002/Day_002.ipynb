{
 "cells": [
  {
   "attachments": {},
   "cell_type": "markdown",
   "metadata": {},
   "source": [
    "DAY 2\n",
    "\n",
    "EXERCISE: LEVEL ONE\n",
    "\n",
    "Question (1-13)"
   ]
  },
  {
   "cell_type": "code",
   "execution_count": null,
   "metadata": {},
   "outputs": [],
   "source": [
    "# Day 2: 30 Days of python programming\n",
    "\n",
    "FirstName = 'Mahmud'\n",
    "LastName = 'Mahmud'\n",
    "FullName = FirstName + '' + LastName\n",
    "country = 'Nigeria'\n",
    "city = 'kano'\n",
    "age = 30\n",
    "year = 2011\n",
    "is_married = False\n",
    "is_true = True\n",
    "is_light = False\n",
    "\n",
    "f_name, l_name, state = 'Ali', 'Musa', 'Kano'  "
   ]
  },
  {
   "cell_type": "markdown",
   "metadata": {},
   "source": [
    "EXERCISE LEVEL TWO\n",
    "\n",
    "Question (1)"
   ]
  },
  {
   "cell_type": "code",
   "execution_count": null,
   "metadata": {},
   "outputs": [],
   "source": [
    "\n",
    "'''Checking Data Type'''\n",
    "\n",
    "print(type(FirstName))\n",
    "print(type(LastName))\n",
    "print(type(FullName))\n",
    "print(type(country))\n",
    "print(type(city))\n",
    "print(type(age))\n",
    "print(type(year))\n",
    "print(type(is_married))\n",
    "print(type(is_true))\n",
    "print(type(is_light))\n",
    "\n"
   ]
  },
  {
   "cell_type": "markdown",
   "metadata": {},
   "source": [
    "Question (2)"
   ]
  },
  {
   "cell_type": "code",
   "execution_count": 1,
   "metadata": {},
   "outputs": [
    {
     "name": "stdout",
     "output_type": "stream",
     "text": [
      "The Lenght of First Name =  6\n"
     ]
    }
   ],
   "source": [
    "#Finding the Lenght of first Name\n",
    "FirstName = 'Mahmud'\n",
    "print('The Lenght of First Name = ', len(FirstName))"
   ]
  },
  {
   "cell_type": "markdown",
   "metadata": {},
   "source": [
    "Question (3)"
   ]
  },
  {
   "cell_type": "code",
   "execution_count": null,
   "metadata": {},
   "outputs": [],
   "source": [
    "#Comparing the lenght of First Name and Last Name\n",
    "print('The Lenght of First Name = ', len(FirstName), 'and ','The lenght of Last Name ', len(LastName))  #comparison"
   ]
  },
  {
   "cell_type": "markdown",
   "metadata": {},
   "source": [
    "Question (4)"
   ]
  },
  {
   "cell_type": "code",
   "execution_count": null,
   "metadata": {},
   "outputs": [],
   "source": [
    "#Arithmetic Operations:\n",
    "print('== Addition, Subtraction, Multiplication', 'Division', 'Modulus', 'Exponential', 'Floor Division')\n",
    "num_one = 5\n",
    "num_two = 4\n",
    "\n",
    "total = num_one + num_two\n",
    "diff = num_one - num_two\n",
    "product = num_one * num_two\n",
    "division = num_one / num_two\n",
    "variable_remainder = num_one % num_two\n",
    "variable_exp = num_one ** num_two\n",
    "floor_div = num_one // num_two\n",
    "print('num_one + num_two = ', total)\n",
    "print('num_one - num_two = ', diff)\n",
    "print('num_one * num_two = ', product)\n",
    "print('num_one / num_two = ', division)\n",
    "print('num_one % num_two = ', variable_remainder)\n",
    "print('num_one ** num_two = ', variable_exp)\n",
    "print('num_one // num_two = ', floor_div)"
   ]
  },
  {
   "cell_type": "markdown",
   "metadata": {},
   "source": [
    "Question (5a) & (5b)"
   ]
  },
  {
   "cell_type": "code",
   "execution_count": 2,
   "metadata": {},
   "outputs": [
    {
     "name": "stdout",
     "output_type": "stream",
     "text": [
      "Area of a circle =  2827.431\n",
      "Circumfrence of a circle =  188.4954\n"
     ]
    }
   ],
   "source": [
    "#Calculate the area and circumfrence of a circle\n",
    "\n",
    "radius = 30\n",
    "Pi = 3.14159\n",
    "\n",
    "area_circle = Pi * radius **2\n",
    "circum_of_circle = 2 * Pi * radius\n",
    "print('Area of a circle = ', area_circle)\n",
    "print('Circumfrence of a circle = ', circum_of_circle)\n"
   ]
  },
  {
   "cell_type": "markdown",
   "metadata": {},
   "source": [
    "Question (5c)"
   ]
  },
  {
   "cell_type": "code",
   "execution_count": 3,
   "metadata": {},
   "outputs": [
    {
     "name": "stdout",
     "output_type": "stream",
     "text": [
      "Enter radius:\n"
     ]
    }
   ],
   "source": [
    "'''Calculate the area and circumfrence of a circle \n",
    "By taking radius as user input'''\n",
    "\n",
    "print('Enter radius:')\n",
    "radius = float(input())\n",
    "Pi = 3.14159\n",
    "\n",
    "area_circle = Pi * radius **2\n",
    "circum_of_circle = 2 * Pi * radius\n",
    "print('Area of a circle = ', area_circle)\n",
    "print('Circumfrence of a circle = ', circum_of_circle)"
   ]
  },
  {
   "cell_type": "markdown",
   "metadata": {},
   "source": [
    "Question (6)"
   ]
  },
  {
   "cell_type": "code",
   "execution_count": 1,
   "metadata": {},
   "outputs": [
    {
     "name": "stdout",
     "output_type": "stream",
     "text": [
      "Enter your first name: \n"
     ]
    }
   ],
   "source": [
    "print('Enter your first name: ')\n",
    "FirstName = input()\n",
    "print('Enter your last name: ')\n",
    "LastName = input()\n",
    "print('Enter your country name: ')\n",
    "country = input()\n",
    "print('Enter your age: ')\n",
    "age = input()"
   ]
  }
 ],
 "metadata": {
  "kernelspec": {
   "display_name": "Python 3.11.0 64-bit",
   "language": "python",
   "name": "python3"
  },
  "language_info": {
   "codemirror_mode": {
    "name": "ipython",
    "version": 3
   },
   "file_extension": ".py",
   "mimetype": "text/x-python",
   "name": "python",
   "nbconvert_exporter": "python",
   "pygments_lexer": "ipython3",
   "version": "3.11.0"
  },
  "orig_nbformat": 4,
  "vscode": {
   "interpreter": {
    "hash": "2f1a2eacb683bb06bd5c158a4e3bf200b129d414ee0e1c88e9c74e55ea9e8d37"
   }
  }
 },
 "nbformat": 4,
 "nbformat_minor": 2
}
