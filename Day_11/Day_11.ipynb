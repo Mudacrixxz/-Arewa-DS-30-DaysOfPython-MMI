{
 "cells": [
  {
   "attachments": {},
   "cell_type": "markdown",
   "metadata": {},
   "source": [
    "DAY 11\n",
    "\n",
    "EXERCISE LEVEL 1\n",
    "\n",
    "Question (1 - 3)"
   ]
  },
  {
   "cell_type": "code",
   "execution_count": 14,
   "metadata": {},
   "outputs": [
    {
     "name": "stdout",
     "output_type": "stream",
     "text": [
      "9\n",
      "Area of a circle is:   1256.0\n",
      "10\n"
     ]
    }
   ],
   "source": [
    "# 01\n",
    "def add_num(num1,num2):\n",
    "    total = num1 + num2\n",
    "    return total\n",
    "print(add_num(4,5))\n",
    "\n",
    "# 02\n",
    "def area_of_circle(r, Pi = 3.14):\n",
    "    area = Pi * r**2\n",
    "    return area\n",
    "print('Area of a circle is:  ', area_of_circle(20))\n",
    "\n",
    "# 03\n",
    "def add_all_nums(*nums):\n",
    "    total = 0\n",
    "    for num in nums:\n",
    "        total += num\n",
    "    return total\n",
    "print(add_all_nums(2, 3, 5))"
   ]
  },
  {
   "attachments": {},
   "cell_type": "markdown",
   "metadata": {},
   "source": [
    "Question (4)"
   ]
  },
  {
   "cell_type": "code",
   "execution_count": 15,
   "metadata": {},
   "outputs": [
    {
     "name": "stdout",
     "output_type": "stream",
     "text": [
      "50.0\n"
     ]
    }
   ],
   "source": [
    "def convert_celsius_fahrenheit(celsius):\n",
    "\tfahrenheit = (celsius * 9/5) + 32\n",
    "\treturn fahrenheit\n",
    "print(convert_celsius_fahrenheit(10))"
   ]
  },
  {
   "attachments": {},
   "cell_type": "markdown",
   "metadata": {},
   "source": [
    "Question (5)"
   ]
  },
  {
   "cell_type": "code",
   "execution_count": 11,
   "metadata": {},
   "outputs": [
    {
     "name": "stdout",
     "output_type": "stream",
     "text": [
      "The season is Winter\n",
      "The season is Spring\n",
      "The season is Summer\n",
      "The season is Autumn\n"
     ]
    }
   ],
   "source": [
    "def check_season(month):\n",
    "\t#month = input('Enter the Month: ')\n",
    "\tif month in ('September', 'september', 'October', 'october',  'November', 'november' ):\n",
    "\t\tprint('The season is Autumn')\n",
    "\telif month in ('December', 'december', 'January', 'january', 'February', 'february'):\n",
    "\t\tprint('The season is Winter')\n",
    "\telif month in ('March', 'march', 'April', 'april', 'May', 'may'):\n",
    "\t\tprint('The season is Spring')\n",
    "\telif month in ('June', 'june', 'July', 'july', 'August', 'august'):\n",
    "\t\tprint('The season is Summer')\n",
    "\telse: \n",
    "\t\tprint('Invalid Input')\n",
    "check_season('January')\n",
    "check_season('March')\n",
    "check_season('June')\n",
    "check_season('November')\n"
   ]
  },
  {
   "attachments": {},
   "cell_type": "markdown",
   "metadata": {},
   "source": [
    "Question(6)"
   ]
  },
  {
   "cell_type": "code",
   "execution_count": 12,
   "metadata": {},
   "outputs": [
    {
     "name": "stdout",
     "output_type": "stream",
     "text": [
      "The Slope is:  5.0\n"
     ]
    }
   ],
   "source": [
    "def calculate_slope(x1, x2, y1, y2 ):\n",
    "\tslope2 = (y2-y1 / x2-x1)\n",
    "\treturn slope2\n",
    "\n",
    "x1, x2, y1, y2 = 2, 2, 6, 10\n",
    "print('The Slope is: ', calculate_slope(x1, x2, y1, y2 ))\n",
    "\n",
    "\n"
   ]
  },
  {
   "attachments": {},
   "cell_type": "markdown",
   "metadata": {},
   "source": [
    "Question (7)"
   ]
  },
  {
   "cell_type": "code",
   "execution_count": 13,
   "metadata": {},
   "outputs": [
    {
     "name": "stdout",
     "output_type": "stream",
     "text": [
      " real and different roots \n",
      "2.0\n",
      "-12.0\n"
     ]
    }
   ],
   "source": [
    "# Python program to find roots of quadratic equation \n",
    "\n",
    "import math  \n",
    " \n",
    "# function for finding roots \n",
    "\n",
    "def equationroots( a, b, c):  \n",
    "  \n",
    "    # calculating discriminant using formula \n",
    "\n",
    "    dis = b * b - 4 * a * c  \n",
    "\n",
    "    sqrt_val = math.sqrt(abs(dis))  \n",
    "\n",
    "    # checking condition for discriminant \n",
    "\n",
    "    if dis > 0:  \n",
    "\n",
    "        print(\" real and different roots \")  \n",
    "\n",
    "        print((-b + sqrt_val)/(2 * a))  \n",
    "\n",
    "        print((-b - sqrt_val)/(2 * a))  \n",
    "\n",
    "    elif dis == 0:  \n",
    "\n",
    "        print(\" Real and same roots\")  \n",
    "\n",
    "        print(-b / (2 * a))  \n",
    "\n",
    "    # when discriminant is less than 0 \n",
    "\n",
    "    else: \n",
    "\n",
    "        print(\"Complex Roots\")  \n",
    "\n",
    "        print(- b / (2 * a), \" + i\", sqrt_val)  \n",
    "\n",
    "        print(- b / (2 * a), \" - i\", sqrt_val)  \n",
    " \n",
    "# Driver Program  \n",
    "\n",
    "a = float(input('Enter first No. : '))\n",
    "\n",
    "b = float(input('Enter second No. : '))\n",
    "\n",
    "c = float(input('Enter third No. : '))\n",
    "\n",
    "# If a is 0, then incorrect equation \n",
    "\n",
    "if a == 0:  \n",
    "\n",
    "        print(\"Input correct quadratic equation\")  \n",
    "\n",
    "else: \n",
    "\n",
    "    equationroots(a, b, c)"
   ]
  },
  {
   "attachments": {},
   "cell_type": "markdown",
   "metadata": {},
   "source": [
    "Question (8)"
   ]
  },
  {
   "cell_type": "code",
   "execution_count": null,
   "metadata": {},
   "outputs": [],
   "source": [
    "def print_list(list1):\n",
    "    for i in print_list:\n",
    "        "
   ]
  }
 ],
 "metadata": {
  "kernelspec": {
   "display_name": "Python 3",
   "language": "python",
   "name": "python3"
  },
  "language_info": {
   "codemirror_mode": {
    "name": "ipython",
    "version": 3
   },
   "file_extension": ".py",
   "mimetype": "text/x-python",
   "name": "python",
   "nbconvert_exporter": "python",
   "pygments_lexer": "ipython3",
   "version": "3.11.0"
  },
  "orig_nbformat": 4,
  "vscode": {
   "interpreter": {
    "hash": "2f1a2eacb683bb06bd5c158a4e3bf200b129d414ee0e1c88e9c74e55ea9e8d37"
   }
  }
 },
 "nbformat": 4,
 "nbformat_minor": 2
}
