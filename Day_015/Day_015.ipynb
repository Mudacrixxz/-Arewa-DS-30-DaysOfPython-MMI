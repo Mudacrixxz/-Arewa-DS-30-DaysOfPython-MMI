{
 "cells": [
  {
   "attachments": {},
   "cell_type": "markdown",
   "metadata": {},
   "source": [
    "Am done with the error types practice by using python interactive shell, and i understand what trigger the error and how to fix it. The errors included:\n",
    "1. SyntaxError\n",
    "2. NameError\n",
    "3. IndexError\n",
    "4. ModuleNotFoundError\n",
    "5. AttributeError\n",
    "6. KeyError\n",
    "7. TypeError\n",
    "8. ImportError\n",
    "9. ValueError\n",
    "10. ZeroDivisionError"
   ]
  }
 ],
 "metadata": {
  "kernelspec": {
   "display_name": "Python 3",
   "language": "python",
   "name": "python3"
  },
  "language_info": {
   "name": "python",
   "version": "3.11.0"
  },
  "orig_nbformat": 4,
  "vscode": {
   "interpreter": {
    "hash": "2f1a2eacb683bb06bd5c158a4e3bf200b129d414ee0e1c88e9c74e55ea9e8d37"
   }
  }
 },
 "nbformat": 4,
 "nbformat_minor": 2
}
