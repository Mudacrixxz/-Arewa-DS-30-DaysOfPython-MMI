{
 "cells": [
  {
   "attachments": {},
   "cell_type": "markdown",
   "metadata": {},
   "source": [
    "DAY 14\n",
    "\n",
    "EXERCISE LEVEL 1\n",
    "\n",
    "Question (1)\n",
    "\tExplain the difference between map, filter, and reduce."
   ]
  },
  {
   "attachments": {},
   "cell_type": "markdown",
   "metadata": {},
   "source": [
    "Map, Filter, and Reduce are paradigms of functional programming. They allow the programmer (you) to write simpler, shorter code, without neccessarily needing to bother about intricacies like loops and branching.\n",
    "Essentially, these three functions allow you to apply a function across a number of iterables, in one fell swoop. map and filter come built-in with Python (in the __builtins__ module) and require no importing. reduce, however, needs to be imported as it resides in the functools module. Let's get a better understanding of how they all work, starting with map."
   ]
  },
  {
   "attachments": {},
   "cell_type": "markdown",
   "metadata": {},
   "source": [
    "1. Map in Python is a function that works as an iterator to return a result after applying a function to every item of an iterable (tuple, lists, etc.). It is used when you want to apply a single transformation function to all the iterable elements. The iterable and function are passed as arguments to the map in Python.\n",
    "2. Filter() is a built-in function in Python. The filter function can be applied to an iterable such as a list or a dictionary and create a new iterator. This new iterator can filter out certain specific elements based on the condition that you provide very efficiently. \n",
    "\n",
    "\tNote: An iterable in Python is an object that you can iterate over. It is possible to loop over an iterable and return items that are in it.\n",
    "3. Reduce() is a function that implements a mathematical technique called folding or reduction. reduce() is useful when you need to apply a function to an iterable and reduce it to a single cumulative value. Python’s reduce() is popular among developers with a functional programming background, but Python has more to offer."
   ]
  },
  {
   "attachments": {},
   "cell_type": "markdown",
   "metadata": {},
   "source": [
    "Question (2)\n",
    "\t\t\tExplain the difference between higher order function, closure and decorator"
   ]
  },
  {
   "attachments": {},
   "cell_type": "markdown",
   "metadata": {},
   "source": [
    "1. A function in Python with another function as an argument or returns a function as an output is called the High order function. Let’s see the propertie −\n",
    "\n",
    "\tThe function can be stored in a variable.\n",
    "\n",
    "\tThe function can be passed as a parameter to another function.\n",
    "\n",
    "\tThe high order functions can be stored in the form of lists, hash tables, etc.\n",
    "\n",
    "\tFunction can be returned from a function.\n",
    "\n",
    "2. A Closure is a function object that remembers values in enclosing scopes even if they are not present in memory. \n",
    "\tLet us get to it step by step\n",
    "\n",
    "\tFirstly, a Nested Function is a function defined inside another function. It's very important to note that the nested functions can access the variables of the enclosing scope. However, at least in python, they are only readonly. However, one can use the \"nonlocal\" keyword explicitly with these variables in order to modify them.\n",
    "3. A decorator is a design pattern in Python that allows a user to add new functionality to an existing object \t\twithout modifying its structure. Decorators are usually called before the definition of a function you want to decorate."
   ]
  },
  {
   "cell_type": "code",
   "execution_count": 41,
   "metadata": {},
   "outputs": [],
   "source": [
    "countries = ['Estonia', 'Finland', 'Sweden', 'Denmark', 'Norway', 'Iceland']\n",
    "names = ['Asabeneh', 'Lidiya', 'Ermias', 'Abraham']\n",
    "numbers = [1, 2, 3, 4, 5, 6, 7, 8, 9, 10]"
   ]
  },
  {
   "attachments": {},
   "cell_type": "markdown",
   "metadata": {},
   "source": [
    "Question (3)"
   ]
  },
  {
   "cell_type": "code",
   "execution_count": null,
   "metadata": {},
   "outputs": [],
   "source": []
  },
  {
   "attachments": {},
   "cell_type": "markdown",
   "metadata": {},
   "source": [
    "Question (4)\n",
    "\n",
    "Use for loop to print each country in the countries list."
   ]
  },
  {
   "cell_type": "code",
   "execution_count": 42,
   "metadata": {},
   "outputs": [
    {
     "name": "stdout",
     "output_type": "stream",
     "text": [
      "Estonia\n",
      "Finland\n",
      "Sweden\n",
      "Denmark\n",
      "Norway\n",
      "Iceland\n"
     ]
    }
   ],
   "source": [
    "for country in countries:\n",
    "    print(country)"
   ]
  },
  {
   "attachments": {},
   "cell_type": "markdown",
   "metadata": {},
   "source": [
    "Question (5)\n",
    "\n",
    "Use for loop to print each name in the names list."
   ]
  },
  {
   "cell_type": "code",
   "execution_count": 43,
   "metadata": {},
   "outputs": [
    {
     "name": "stdout",
     "output_type": "stream",
     "text": [
      "Asabeneh\n",
      "Lidiya\n",
      "Ermias\n",
      "Abraham\n"
     ]
    }
   ],
   "source": [
    "for name in names:\n",
    "    print(name)"
   ]
  },
  {
   "attachments": {},
   "cell_type": "markdown",
   "metadata": {},
   "source": [
    "Question (6)\n",
    "\n",
    "Use for to print each number in the numbers list."
   ]
  },
  {
   "cell_type": "code",
   "execution_count": 44,
   "metadata": {},
   "outputs": [
    {
     "name": "stdout",
     "output_type": "stream",
     "text": [
      "1\n",
      "2\n",
      "3\n",
      "4\n",
      "5\n",
      "6\n",
      "7\n",
      "8\n",
      "9\n",
      "10\n"
     ]
    }
   ],
   "source": [
    "for num in numbers:\n",
    "    print(num)"
   ]
  },
  {
   "attachments": {},
   "cell_type": "markdown",
   "metadata": {},
   "source": [
    "EXERCISE LEVEL 2\n",
    "\n",
    "Question (1) Use map to create a new list by changing each country to uppercase in the countries list"
   ]
  },
  {
   "cell_type": "code",
   "execution_count": 45,
   "metadata": {},
   "outputs": [
    {
     "name": "stdout",
     "output_type": "stream",
     "text": [
      "List countries in uppercase :\n",
      "\n",
      "['ESTONIA', 'FINLAND', 'SWEDEN', 'DENMARK', 'NORWAY', 'ICELAND']\n"
     ]
    }
   ],
   "source": [
    "def change_upper(country):\n",
    "    return country.upper()\n",
    "up_contry_list = map(change_upper, countries)\n",
    "print(f'List countries in uppercase :\\n\\n{list(up_contry_list)}')"
   ]
  },
  {
   "attachments": {},
   "cell_type": "markdown",
   "metadata": {},
   "source": [
    "Question (2) Use map to create a new list by changing each number to its square in the numbers list"
   ]
  },
  {
   "cell_type": "code",
   "execution_count": 46,
   "metadata": {},
   "outputs": [
    {
     "name": "stdout",
     "output_type": "stream",
     "text": [
      "List of squared numbers:\n",
      "\n",
      "[1, 4, 9, 16, 25, 36, 49, 64, 81, 100]\n"
     ]
    }
   ],
   "source": [
    "def square(num):\n",
    "    return num **2\n",
    "to_square = map(square, numbers)\n",
    "print(f'List of squared numbers:\\n\\n{list(to_square)}')"
   ]
  },
  {
   "attachments": {},
   "cell_type": "markdown",
   "metadata": {},
   "source": [
    "Question (3) Use map to change each name to uppercase in the names list"
   ]
  },
  {
   "cell_type": "code",
   "execution_count": 47,
   "metadata": {},
   "outputs": [
    {
     "name": "stdout",
     "output_type": "stream",
     "text": [
      "Uppercase of the names :\n",
      "\n",
      "['ASABENEH', 'LIDIYA', 'ERMIAS', 'ABRAHAM'] \n"
     ]
    }
   ],
   "source": [
    "up_cs_names = list(map(lambda y:y.upper(), names))\n",
    "print(f'Uppercase of the names :\\n\\n{up_cs_names} ')"
   ]
  },
  {
   "attachments": {},
   "cell_type": "markdown",
   "metadata": {},
   "source": [
    "Question (4) Use filter to filter out countries containing 'land'."
   ]
  },
  {
   "cell_type": "code",
   "execution_count": 48,
   "metadata": {},
   "outputs": [
    {
     "name": "stdout",
     "output_type": "stream",
     "text": [
      "Countries with land in their name:\n",
      "\n",
      "['Finland', 'Iceland']\n"
     ]
    }
   ],
   "source": [
    "contains_land = list(filter(lambda y:'land' in y,countries))\n",
    "print(f'Countries with land in their name:\\n\\n{contains_land}')"
   ]
  },
  {
   "attachments": {},
   "cell_type": "markdown",
   "metadata": {},
   "source": [
    "Question (5) Use filter to filter out countries having exactly six characters."
   ]
  },
  {
   "cell_type": "code",
   "execution_count": 49,
   "metadata": {},
   "outputs": [
    {
     "name": "stdout",
     "output_type": "stream",
     "text": [
      "Countries with six characters:\n",
      "\n",
      "['Sweden', 'Norway'] \n"
     ]
    }
   ],
   "source": [
    "_6chars = list(filter(lambda y:len(y)==6, countries))\n",
    "print(f'Countries with six characters:\\n\\n{_6chars} ')"
   ]
  },
  {
   "cell_type": "markdown",
   "metadata": {},
   "source": [
    "Question (6) Use filter to filter out countries containing six letters and more in the country list."
   ]
  },
  {
   "cell_type": "code",
   "execution_count": 50,
   "metadata": {},
   "outputs": [
    {
     "name": "stdout",
     "output_type": "stream",
     "text": [
      "Countries with six characters & more:['Estonia', 'Finland', 'Sweden', 'Denmark', 'Norway', 'Iceland']\n",
      "\n"
     ]
    }
   ],
   "source": [
    "def _6chars_more(y):\n",
    "    return len(y) >=6\n",
    "_6chars_nd_more = list(filter(_6chars_more, countries))\n",
    "print(f'Countries with six characters & more:{_6chars_nd_more}\\n') "
   ]
  },
  {
   "attachments": {},
   "cell_type": "markdown",
   "metadata": {},
   "source": [
    "Question (7) Use filter to filter out countries starting with an 'E'"
   ]
  },
  {
   "cell_type": "code",
   "execution_count": 51,
   "metadata": {},
   "outputs": [
    {
     "name": "stdout",
     "output_type": "stream",
     "text": [
      " Countries starting with E in the list are: ['Estonia']\n"
     ]
    }
   ],
   "source": [
    "def start_with_E(x):\n",
    "    return x.startswith('E')\n",
    "  \n",
    "start_with_E = list(filter(start_with_E, countries))\n",
    "print(f' Countries starting with E in the list are: {start_with_E}')"
   ]
  },
  {
   "attachments": {},
   "cell_type": "markdown",
   "metadata": {},
   "source": [
    "Question(8)\n",
    "\n",
    "Chain two or more list iterators (eg. arr.map(callback).filter(callback).reduce(callback))"
   ]
  },
  {
   "cell_type": "code",
   "execution_count": 52,
   "metadata": {},
   "outputs": [
    {
     "name": "stdout",
     "output_type": "stream",
     "text": [
      " Sum of squared even numbers:  264\n"
     ]
    }
   ],
   "source": [
    "from functools import reduce\n",
    "\n",
    "numberss = [3, 5, 8, 2, 14]\n",
    "sum_squared_even_numbers = reduce(lambda a, b: a + b, list(filter(lambda a: a % 2 == 0,\n",
    "                                \t\t\t\t\t\t\t\tmap(lambda a: a*a, numberss))))\n",
    "print(f' Sum of squared even numbers:  {sum_squared_even_numbers}')"
   ]
  },
  {
   "attachments": {},
   "cell_type": "markdown",
   "metadata": {},
   "source": [
    "Question (9)\n",
    "\n",
    "Declare a function called get_string_lists which takes a list as a parameter and then returns a list containing only string items."
   ]
  },
  {
   "cell_type": "code",
   "execution_count": 60,
   "metadata": {},
   "outputs": [
    {
     "name": "stdout",
     "output_type": "stream",
     "text": [
      "['1', '2', '3', '4', '5', '6', '7', '8', '9', '10']\n"
     ]
    }
   ],
   "source": [
    "def get_string_lists(list):\n",
    "   return [str(item) for item in list]\n",
    "        \n",
    "\n",
    "str_nums =(get_string_lists(numbers))\n",
    "print(str_nums)\n",
    "\n",
    "#return [str(item) for item in list]"
   ]
  },
  {
   "attachments": {},
   "cell_type": "markdown",
   "metadata": {},
   "source": [
    "Question (10)\n",
    "\n",
    "Use reduce to sum all the numbers in the numbers list."
   ]
  },
  {
   "cell_type": "code",
   "execution_count": 63,
   "metadata": {},
   "outputs": [
    {
     "name": "stdout",
     "output_type": "stream",
     "text": [
      "The sum of [1, 2, 3, 4, 5, 6, 7, 8, 9, 10] is =  55\n"
     ]
    }
   ],
   "source": [
    "from functools import reduce\n",
    "def add(x,y):\n",
    "    return x + y\n",
    "sum_all = reduce(add,numbers)\n",
    "print(f'The sum of {numbers} is =  {sum_all}')"
   ]
  },
  {
   "attachments": {},
   "cell_type": "markdown",
   "metadata": {},
   "source": [
    "Question (11)\n",
    "\n",
    "Use reduce to concatenate all the countries and to produce this sentence: Estonia, Finland, Sweden, Denmark, Norway, and Iceland are north European countries"
   ]
  },
  {
   "cell_type": "code",
   "execution_count": 67,
   "metadata": {},
   "outputs": [
    {
     "name": "stdout",
     "output_type": "stream",
     "text": [
      "Estonia, Finland, Sweden, Denmark, Norway and Iceland are North European countries \n"
     ]
    }
   ],
   "source": [
    "c = ','\n",
    "sp = ' '\n",
    "concat = reduce(lambda a,b:a + c + sp + b,countries[:-1])\n",
    "print(f'{concat} and {countries[-1]} are North European countries ')"
   ]
  },
  {
   "attachments": {},
   "cell_type": "markdown",
   "metadata": {},
   "source": [
    "Question (12)\n",
    "\n",
    "Declare a function called categorize_countries that returns a list of countries with some common pattern (you can find the countries list in this repository as countries.js(eg 'land', 'ia', 'island', 'stan'))."
   ]
  },
  {
   "cell_type": "code",
   "execution_count": 68,
   "metadata": {},
   "outputs": [],
   "source": [
    "countries = [\n",
    "  'Afghanistan',\n",
    "  'Albania',\n",
    "  'Algeria',\n",
    "  'Andorra',\n",
    "  'Angola',\n",
    "  'Antigua and Barbuda',\n",
    "  'Argentina',\n",
    "  'Armenia',\n",
    "  'Australia',\n",
    "  'Austria',\n",
    "  'Azerbaijan',\n",
    "  'Bahamas',\n",
    "  'Bahrain',\n",
    "  'Bangladesh',\n",
    "  'Barbados',\n",
    "  'Belarus',\n",
    "  'Belgium',\n",
    "  'Belize',\n",
    "  'Benin',\n",
    "  'Bhutan',\n",
    "  'Bolivia',\n",
    "  'Bosnia and Herzegovina',\n",
    "  'Botswana',\n",
    "  'Brazil',\n",
    "  'Brunei',\n",
    "  'Bulgaria',\n",
    "  'Burkina Faso',\n",
    "  'Burundi',\n",
    "  'Cambodia',\n",
    "  'Cameroon',\n",
    "  'Canada',\n",
    "  'Cape Verde',\n",
    "  'Central African Republic',\n",
    "  'Chad',\n",
    "  'Chile',\n",
    "  'China',\n",
    "  'Colombi',\n",
    "  'Comoros',\n",
    "  'Congo (Brazzaville)',\n",
    "  'Congo',\n",
    "  'Costa Rica',\n",
    "  \"Cote d'Ivoire\",\n",
    "  'Croatia',\n",
    "  'Cuba',\n",
    "  'Cyprus',\n",
    "  'Czech Republic',\n",
    "  'Denmark',\n",
    "  'Djibouti',\n",
    "  'Dominica',\n",
    "  'Dominican Republic',\n",
    "  'East Timor (Timor Timur)',\n",
    "  'Ecuador',\n",
    "  'Egypt',\n",
    "  'El Salvador',\n",
    "  'Equatorial Guinea',\n",
    "  'Eritrea',\n",
    "  'Estonia',\n",
    "  'Ethiopia',\n",
    "  'Fiji',\n",
    "  'Finland',\n",
    "  'France',\n",
    "  'Gabon',\n",
    "  'Gambia, The',\n",
    "  'Georgia',\n",
    "  'Germany',\n",
    "  'Ghana',\n",
    "  'Greece',\n",
    "  'Grenada',\n",
    "  'Guatemala',\n",
    "  'Guinea',\n",
    "  'Guinea-Bissau',\n",
    "  'Guyana',\n",
    "  'Haiti',\n",
    "  'Honduras',\n",
    "  'Hungary',\n",
    "  'Iceland',\n",
    "  'India',\n",
    "  'Indonesia',\n",
    "  'Iran',\n",
    "  'Iraq',\n",
    "  'Ireland',\n",
    "  'Israel',\n",
    "  'Italy',\n",
    "  'Jamaica',\n",
    "  'Japan',\n",
    "  'Jordan',\n",
    "  'Kazakhstan',\n",
    "  'Kenya',\n",
    "  'Kiribati',\n",
    "  'Korea, North',\n",
    "  'Korea, South',\n",
    "  'Kuwait',\n",
    "  'Kyrgyzstan',\n",
    "  'Laos',\n",
    "  'Latvia',\n",
    "  'Lebanon',\n",
    "  'Lesotho',\n",
    "  'Liberia',\n",
    "  'Libya',\n",
    "  'Liechtenstein',\n",
    "  'Lithuania',\n",
    "  'Luxembourg',\n",
    "  'Macedonia',\n",
    "  'Madagascar',\n",
    "  'Malawi',\n",
    "  'Malaysia',\n",
    "  'Maldives',\n",
    "  'Mali',\n",
    "  'Malta',\n",
    "  'Marshall Islands',\n",
    "  'Mauritania',\n",
    "  'Mauritius',\n",
    "  'Mexico',\n",
    "  'Micronesia',\n",
    "  'Moldova',\n",
    "  'Monaco',\n",
    "  'Mongolia',\n",
    "  'Morocco',\n",
    "  'Mozambique',\n",
    "  'Myanmar',\n",
    "  'Namibia',\n",
    "  'Nauru',\n",
    "  'Nepal',\n",
    "  'Netherlands',\n",
    "  'New Zealand',\n",
    "  'Nicaragua',\n",
    "  'Niger',\n",
    "  'Nigeria',\n",
    "  'Norway',\n",
    "  'Oman',\n",
    "  'Pakistan',\n",
    "  'Palau',\n",
    "  'Panama',\n",
    "  'Papua New Guinea',\n",
    "  'Paraguay',\n",
    "  'Peru',\n",
    "  'Philippines',\n",
    "  'Poland',\n",
    "  'Portugal',\n",
    "  'Qatar',\n",
    "  'Romania',\n",
    "  'Russia',\n",
    "  'Rwanda',\n",
    "  'Saint Kitts and Nevis',\n",
    "  'Saint Lucia',\n",
    "  'Saint Vincent',\n",
    "  'Samoa',\n",
    "  'San Marino',\n",
    "  'Sao Tome and Principe',\n",
    "  'Saudi Arabia',\n",
    "  'Senegal',\n",
    "  'Serbia and Montenegro',\n",
    "  'Seychelles',\n",
    "  'Sierra Leone',\n",
    "  'Singapore',\n",
    "  'Slovakia',\n",
    "  'Slovenia',\n",
    "  'Solomon Islands',\n",
    "  'Somalia',\n",
    "  'South Africa',\n",
    "  'Spain',\n",
    "  'Sri Lanka',\n",
    "  'Sudan',\n",
    "  'Suriname',\n",
    "  'Swaziland',\n",
    "  'Sweden',\n",
    "  'Switzerland',\n",
    "  'Syria',\n",
    "  'Taiwan',\n",
    "  'Tajikistan',\n",
    "  'Tanzania',\n",
    "  'Thailand',\n",
    "  'Togo',\n",
    "  'Tonga',\n",
    "  'Trinidad and Tobago',\n",
    "  'Tunisia',\n",
    "  'Turkey',\n",
    "  'Turkmenistan',\n",
    "  'Tuvalu',\n",
    "  'Uganda',\n",
    "  'Ukraine',\n",
    "  'United Arab Emirates',\n",
    "  'United Kingdom',\n",
    "  'United States',\n",
    "  'Uruguay',\n",
    "  'Uzbekistan',\n",
    "  'Vanuatu',\n",
    "  'Vatican City',\n",
    "  'Venezuela',\n",
    "  'Vietnam',\n",
    "  'Yemen',\n",
    "  'Zambia',\n",
    "  'Zimbabwe',\n",
    "]"
   ]
  },
  {
   "cell_type": "code",
   "execution_count": 83,
   "metadata": {},
   "outputs": [
    {
     "name": "stdout",
     "output_type": "stream",
     "text": [
      "Countries with \"pattern\": \n",
      " ['Afghanistan', 'Kazakhstan', 'Kyrgyzstan', 'Pakistan', 'Tajikistan', 'Turkmenistan', 'Uzbekistan']\n",
      "\n",
      "Countries with \"pattern\":\n",
      " ['Albania', 'Algeria', 'Armenia', 'Australia', 'Austria', 'Bolivia', 'Bosnia and Herzegovina', 'Bulgaria', 'Cambodia', 'Croatia', 'Equatorial Guinea', 'Estonia', 'Ethiopia', 'Gambia, The', 'Georgia', 'India', 'Indonesia', 'Latvia', 'Liberia', 'Lithuania', 'Macedonia', 'Malaysia', 'Mauritania', 'Micronesia', 'Mongolia', 'Namibia', 'Nigeria', 'Romania', 'Russia', 'Saint Lucia', 'Saudi Arabia', 'Serbia and Montenegro', 'Slovakia', 'Slovenia', 'Somalia', 'Syria', 'Tanzania', 'Tunisia', 'Zambia']\n",
      "\n",
      "Countries with \"pattern\":\n",
      " ['Finland', 'Iceland', 'Ireland', 'Marshall Islands', 'Netherlands', 'New Zealand', 'Poland', 'Solomon Islands', 'Swaziland', 'Switzerland', 'Thailand']\n"
     ]
    }
   ],
   "source": [
    "def categorize_countries(pattern):\n",
    "    lst_countries = []\n",
    "    for country in countries:\n",
    "        if pattern.lower() in country:\n",
    "            lst_countries.append(country)\n",
    "           \n",
    "    return lst_countries\n",
    "\n",
    "print(f'Countries with \"pattern\": \\n',(categorize_countries('stan')))\n",
    "print(f'\\nCountries with \"pattern\":\\n',(categorize_countries('ia')))\n",
    "print(f'\\nCountries with \"pattern\":\\n',(categorize_countries('land')))"
   ]
  },
  {
   "attachments": {},
   "cell_type": "markdown",
   "metadata": {},
   "source": [
    "Question (13)\n",
    "\n",
    "Create a function returning a dictionary, where keys stand for starting letters of countries and values are the number of country names starting with that letter."
   ]
  },
  {
   "cell_type": "code",
   "execution_count": 84,
   "metadata": {},
   "outputs": [
    {
     "name": "stdout",
     "output_type": "stream",
     "text": [
      " Dictionary of number of countries per letter: {'A': 11, 'B': 17, 'C': 18, 'D': 4, 'E': 8, 'F': 3, 'G': 11, 'H': 3, 'I': 8, 'J': 3, 'K': 7, 'L': 9, 'M': 18, 'N': 9, 'O': 1, 'P': 9, 'Q': 1, 'R': 3, 'S': 25, 'T': 11, 'U': 7, 'V': 4, 'Y': 1, 'Z': 2}\n"
     ]
    }
   ],
   "source": [
    "def countries_dict():\n",
    "    dict_countries = {}\n",
    "    for country in countries:\n",
    "        dict_countries[country[0]] = dict_countries.get(country[0],0) + 1\n",
    "    return dict_countries\n",
    "print(f' Dictionary of number of countries per letter: {countries_dict()}')"
   ]
  }
 ],
 "metadata": {
  "kernelspec": {
   "display_name": "Python 3",
   "language": "python",
   "name": "python3"
  },
  "language_info": {
   "codemirror_mode": {
    "name": "ipython",
    "version": 3
   },
   "file_extension": ".py",
   "mimetype": "text/x-python",
   "name": "python",
   "nbconvert_exporter": "python",
   "pygments_lexer": "ipython3",
   "version": "3.11.0"
  },
  "orig_nbformat": 4,
  "vscode": {
   "interpreter": {
    "hash": "2f1a2eacb683bb06bd5c158a4e3bf200b129d414ee0e1c88e9c74e55ea9e8d37"
   }
  }
 },
 "nbformat": 4,
 "nbformat_minor": 2
}
