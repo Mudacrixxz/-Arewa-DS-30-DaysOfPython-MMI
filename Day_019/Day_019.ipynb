{
 "cells": [
  {
   "attachments": {},
   "cell_type": "markdown",
   "metadata": {},
   "source": [
    "## DAY 19\n",
    "### EXERCISE LEVEL 1\n",
    "**Question (1)**<br>\n",
    "\n",
    "Write a function which count number of lines and number of words in a text. All the files are in the data the folder:<br>\n",
    "a) Read obama_speech.txt file and count number of lines and words<br>\n",
    "b) Read michelle_obama_speech.txt file and count number of lines and words<br>\n",
    "c) Read donald_speech.txt file and count number of lines and words  \n",
    "d) Read melina_trump_speech.txt file and count number of lines and words"
   ]
  },
  {
   "cell_type": "code",
   "execution_count": 1,
   "metadata": {},
   "outputs": [],
   "source": [
    "import re\n",
    "import json\n",
    "import csv"
   ]
  },
  {
   "cell_type": "code",
   "execution_count": 2,
   "metadata": {},
   "outputs": [
    {
     "name": "stdout",
     "output_type": "stream",
     "text": [
      "Number of  lines: 66 and Number of  words: 2377\n",
      "Number of  lines: 48 and Number of  words: 1245\n",
      "Number of  lines: 83 and Number of  words: 2161\n",
      "Number of  lines: 33 and Number of  words: 1366\n"
     ]
    }
   ],
   "source": [
    "def count_words_lines(file):\n",
    "    '''Counts the number of lines and words in a file'''\n",
    "    with open(file) as f:\n",
    "        lines = f.readlines()\n",
    "        words = []\n",
    "        for line in lines:\n",
    "            # removing all characters that are not whitespace or alphanumeric using regex\n",
    "            line = re.sub(r'[^\\w\\s]','',line)\n",
    "            words.extend(line.split())\n",
    "    print(f'Number of  lines: {len(lines)} and Number of  words: {len(words)}')\n",
    "\n",
    "\n",
    "count_words_lines('obama_speech.txt')\n",
    "count_words_lines('donald_speech.txt')\n",
    "count_words_lines('michelle_obama_speech.txt')\n",
    "count_words_lines('melania_trump_speech.txt')"
   ]
  },
  {
   "attachments": {},
   "cell_type": "markdown",
   "metadata": {},
   "source": [
    "**Question (2)**<br>\n",
    "\n",
    "Read the countries_data.json data file in data directory, create a function that finds the ten most spoken languages<br>\n",
    "#Your output should look like this<br>\n",
    "print(most_spoken_languages(filename='./data/countries_data.json', 10))<br>\n",
    "[(91, 'English'),<br>\n",
    "(45, 'French'),<br>\n",
    "(25, 'Arabic'),<br>\n",
    "(24, 'Spanish'),<br>\n",
    "(9, 'Russian'),<br>\n",
    "(9, 'Portuguese'),<br>\n",
    "(8, 'Dutch'),<br>\n",
    "(7, 'German'),<br>\n",
    "(5, 'Chinese'),<br>\n",
    "(4, 'Swahili'),<br>\n",
    "(4, 'Serbian')]<br>\n",
    "#Your output should look like this<br>\n",
    "print(most_spoken_languages(filename='./data/countries_data.json', 3))<br>\n",
    "[(91, 'English'),<br>\n",
    "(45, 'French'),<br>\n",
    "(25, 'Arabic')]"
   ]
  },
  {
   "cell_type": "code",
   "execution_count": 12,
   "metadata": {},
   "outputs": [
    {
     "data": {
      "text/plain": [
       "[(91, 'English'),\n",
       " (45, 'French'),\n",
       " (25, 'Arabic'),\n",
       " (24, 'Spanish'),\n",
       " (9, 'Portuguese'),\n",
       " (9, 'Russian'),\n",
       " (8, 'Dutch'),\n",
       " (7, 'German'),\n",
       " (5, 'Chinese'),\n",
       " (4, 'Serbian')]"
      ]
     },
     "execution_count": 12,
     "metadata": {},
     "output_type": "execute_result"
    }
   ],
   "source": [
    "def most_spoken_languages(file_n,v):\n",
    "    '''\n",
    "    Takes a filepath and an integer,n as arguments and returns the n most spoken languages in the world\n",
    "    '''\n",
    "    with open(file_n) as fl:\n",
    "        list = json.loads(fl.read())\n",
    "    # looping to get dict of languages\n",
    "    languages = []\n",
    "    for i in range(len(list)):\n",
    "        languages.extend(list[i]['languages'])\n",
    "    lang = {}\n",
    "    for language in languages:\n",
    "        lang[language] = lang.get(language,0) + 1\n",
    "    # sorting the list of the tuples to get the most spoken languages\n",
    "    sorted_lang = sorted(lang.items(), key= lambda x:x[1],reverse=True) # contains the languages arranged based on values\n",
    "    result = [(item[1],item[0]) for item in sorted_lang]\n",
    "    return result[:v]\n",
    "most_spoken_languages('countries_data.json',10)"
   ]
  },
  {
   "cell_type": "code",
   "execution_count": 21,
   "metadata": {},
   "outputs": [
    {
     "name": "stdout",
     "output_type": "stream",
     "text": [
      "\n",
      " [(91, 'English'), (45, 'French'), (25, 'Arabic')] \n",
      "\n"
     ]
    }
   ],
   "source": [
    "reslt = most_spoken_languages('countries_data.json',3)\n",
    "print('\\n', reslt,'\\n')"
   ]
  },
  {
   "attachments": {},
   "cell_type": "markdown",
   "metadata": {},
   "source": [
    "**Question (3)**<br>\n",
    "Read the countries_data.json data file in data directory, create a function that creates a list of the ten most populated countries<br>\n",
    "#Your output should look like this\n",
    "print(most_populated_countries(filename='./data/countries_data.json', 10))<br>\n",
    "\n",
    "[\n",
    "{'country': 'China', 'population': 1377422166},<br>\n",
    "{'country': 'India', 'population': 1295210000},<br>\n",
    "{'country': 'United States of America', 'population': 323947000},<br>\n",
    "{'country': 'Indonesia', 'population': 258705000},<br>\n",
    "{'country': 'Brazil', 'population': 206135893},<br>\n",
    "{'country': 'Pakistan', 'population': 194125062},<br>\n",
    "{'country': 'Nigeria', 'population': 186988000},<br>\n",
    "{'country': 'Bangladesh', 'population': 161006790},<br>\n",
    "{'country': 'Russian Federation', 'population': 146599183},<br>\n",
    "{'country': 'Japan', 'population': 126960000}<br>\n",
    "]\n",
    "\n",
    "#Your output should look like this<br>\n",
    "\n",
    "print(most_populated_countries(filename='./data/countries_data.json', 3))<br>\n",
    "[\n",
    "{'country': 'China', 'population': 1377422166},<br>\n",
    "{'country': 'India', 'population': 1295210000},<br>\n",
    "{'country': 'United States of America', 'population': 323947000}<br>\n",
    "]"
   ]
  },
  {
   "cell_type": "code",
   "execution_count": 22,
   "metadata": {},
   "outputs": [
    {
     "data": {
      "text/plain": [
       "[{'country': 'China', 'population': 1377422166},\n",
       " {'country': 'India', 'population': 1295210000},\n",
       " {'country': 'United States of America', 'population': 323947000},\n",
       " {'country': 'Indonesia', 'population': 258705000},\n",
       " {'country': 'Brazil', 'population': 206135893},\n",
       " {'country': 'Pakistan', 'population': 194125062},\n",
       " {'country': 'Nigeria', 'population': 186988000},\n",
       " {'country': 'Bangladesh', 'population': 161006790},\n",
       " {'country': 'Russian Federation', 'population': 146599183},\n",
       " {'country': 'Japan', 'population': 126960000}]"
      ]
     },
     "execution_count": 22,
     "metadata": {},
     "output_type": "execute_result"
    }
   ],
   "source": [
    "def most_populated_countries(filename,n):\n",
    "    '''\n",
    "    Takes a file path and an integer,n as arguments and returns the n most populated countries in the world\n",
    "    '''\n",
    "    with open(filename) as f:\n",
    "        dic_list = json.loads(f.read())\n",
    "    population = dict()\n",
    "    for i in range(len(dic_list)):\n",
    "        keys = dic_list[i]['name']\n",
    "        values = dic_list[i]['population']\n",
    "        population[keys] = values\n",
    "    # sorting by values of the population, descending (list of tuples)\n",
    "    sorted_lt = sorted(population.items(), key= lambda x:x[1],reverse=True)\n",
    "    final_list = [{'country':item[0],'population':item[1]} for item in sorted_lt]\n",
    "    return final_list[:n]\n",
    "\n",
    "most_populated_countries('countries_data.json',10)"
   ]
  }
 ],
 "metadata": {
  "kernelspec": {
   "display_name": "Python 3",
   "language": "python",
   "name": "python3"
  },
  "language_info": {
   "codemirror_mode": {
    "name": "ipython",
    "version": 3
   },
   "file_extension": ".py",
   "mimetype": "text/x-python",
   "name": "python",
   "nbconvert_exporter": "python",
   "pygments_lexer": "ipython3",
   "version": "3.11.0"
  },
  "orig_nbformat": 4,
  "vscode": {
   "interpreter": {
    "hash": "2f1a2eacb683bb06bd5c158a4e3bf200b129d414ee0e1c88e9c74e55ea9e8d37"
   }
  }
 },
 "nbformat": 4,
 "nbformat_minor": 2
}
