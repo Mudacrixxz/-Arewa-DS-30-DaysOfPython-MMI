{
 "cells": [
  {
   "attachments": {},
   "cell_type": "markdown",
   "metadata": {},
   "source": [
    "DAY 11\n",
    "\n",
    "EXERCISE LEVEL 1\n",
    "\n",
    "Question (1 - 3)"
   ]
  },
  {
   "cell_type": "code",
   "execution_count": 14,
   "metadata": {},
   "outputs": [
    {
     "name": "stdout",
     "output_type": "stream",
     "text": [
      "9\n",
      "Area of a circle is:   1256.0\n",
      "10\n"
     ]
    }
   ],
   "source": [
    "# 01\n",
    "def add_num(num1,num2):\n",
    "    total = num1 + num2\n",
    "    return total\n",
    "print(add_num(4,5))\n",
    "\n",
    "# 02\n",
    "def area_of_circle(r, Pi = 3.14):\n",
    "    area = Pi * r**2\n",
    "    return area\n",
    "print('Area of a circle is:  ', area_of_circle(20))\n",
    "\n",
    "# 03\n",
    "def add_all_nums(*nums):\n",
    "    total = 0\n",
    "    for num in nums:\n",
    "        total += num\n",
    "    return total\n",
    "print(add_all_nums(2, 3, 5))"
   ]
  },
  {
   "attachments": {},
   "cell_type": "markdown",
   "metadata": {},
   "source": [
    "Question (4)"
   ]
  },
  {
   "cell_type": "code",
   "execution_count": 15,
   "metadata": {},
   "outputs": [
    {
     "name": "stdout",
     "output_type": "stream",
     "text": [
      "50.0\n"
     ]
    }
   ],
   "source": [
    "def convert_celsius_fahrenheit(celsius):\n",
    "\tfahrenheit = (celsius * 9/5) + 32\n",
    "\treturn fahrenheit\n",
    "print(convert_celsius_fahrenheit(10))"
   ]
  },
  {
   "attachments": {},
   "cell_type": "markdown",
   "metadata": {},
   "source": [
    "Question (5)"
   ]
  },
  {
   "cell_type": "code",
   "execution_count": 3,
   "metadata": {},
   "outputs": [
    {
     "name": "stdout",
     "output_type": "stream",
     "text": [
      "Enter the Month: \n",
      "The season is Spring\n"
     ]
    }
   ],
   "source": [
    "def check_season(month):\n",
    "\tprint('Enter the Month: ')\n",
    "\tmonth = input().capitalize()\n",
    "\tif month in ('September', 'October', 'November'):\n",
    "\t\tprint('The season is Autumn')\n",
    "\telif month in ('December', 'January', 'February'):\n",
    "\t\tprint('The season is Winter')\n",
    "\telif month in ('March','April', 'May'):\n",
    "\t\tprint('The season is Spring')\n",
    "\telif month in ('June', 'July', 'August'):\n",
    "\t\tprint('The season is Summer')\n",
    "\telse: \n",
    "\t\tprint('Invalid Input')\n",
    "check_season('month')\n"
   ]
  },
  {
   "attachments": {},
   "cell_type": "markdown",
   "metadata": {},
   "source": [
    "Question(6)"
   ]
  },
  {
   "cell_type": "code",
   "execution_count": 12,
   "metadata": {},
   "outputs": [
    {
     "name": "stdout",
     "output_type": "stream",
     "text": [
      "The Slope is:  5.0\n"
     ]
    }
   ],
   "source": [
    "def calculate_slope(x1, x2, y1, y2 ):\n",
    "\tslope2 = (y2-y1 / x2-x1)\n",
    "\treturn slope2\n",
    "\n",
    "x1, x2, y1, y2 = 2, 2, 6, 10\n",
    "print('The Slope is: ', calculate_slope(x1, x2, y1, y2 ))"
   ]
  },
  {
   "attachments": {},
   "cell_type": "markdown",
   "metadata": {},
   "source": [
    "Question (7)"
   ]
  },
  {
   "cell_type": "code",
   "execution_count": 8,
   "metadata": {},
   "outputs": [
    {
     "name": "stdout",
     "output_type": "stream",
     "text": [
      "The solution is: (3136.5, -3135.5)\n"
     ]
    }
   ],
   "source": [
    "def solve_quadratic_eqn(a,b,c):\n",
    "  a1 = (-b + (b**2 - 4 *a*c)**2)/ (2*a)\n",
    "  a2 = (-b - (b**2 - 4 *a*c)**2)/ (2*a)\n",
    "  return a1,a2\n",
    "print('The solution is:', solve_quadratic_eqn(8,-8,9))"
   ]
  },
  {
   "attachments": {},
   "cell_type": "markdown",
   "metadata": {},
   "source": [
    "Question (8)"
   ]
  },
  {
   "cell_type": "code",
   "execution_count": 14,
   "metadata": {},
   "outputs": [
    {
     "data": {
      "text/plain": [
       "['A', 'B', 'C', 'D', 'E']"
      ]
     },
     "execution_count": 14,
     "metadata": {},
     "output_type": "execute_result"
    }
   ],
   "source": [
    "def print_list(list):\n",
    "    lst = []\n",
    "    for i in range(0, len(list)):\n",
    "        lst.append(list[i])\n",
    "    return(lst)\n",
    "print_list(['A', 'B', 'C', 'D', 'E'])\n",
    "        "
   ]
  },
  {
   "attachments": {},
   "cell_type": "markdown",
   "metadata": {},
   "source": [
    "Question (9)"
   ]
  },
  {
   "cell_type": "code",
   "execution_count": 20,
   "metadata": {},
   "outputs": [
    {
     "data": {
      "text/plain": [
       "['E', 'D', 'C', 'B', 'A']"
      ]
     },
     "execution_count": 20,
     "metadata": {},
     "output_type": "execute_result"
    }
   ],
   "source": [
    "def reverse_list(list1):\n",
    "    rev_lst = []\n",
    "    for i in range(len(list1)-1, -1, -1):\n",
    "        rev_lst.append(list1[i])\n",
    "    return(rev_lst)\n",
    "reverse_list(['A', 'B', 'C', 'D', 'E'])"
   ]
  },
  {
   "attachments": {},
   "cell_type": "markdown",
   "metadata": {},
   "source": [
    "Question (10)"
   ]
  },
  {
   "cell_type": "code",
   "execution_count": 26,
   "metadata": {},
   "outputs": [
    {
     "data": {
      "text/plain": [
       "['APPLE', 'BANANA', 'ORANGE', 'MANGO', 'KIWI']"
      ]
     },
     "execution_count": 26,
     "metadata": {},
     "output_type": "execute_result"
    }
   ],
   "source": [
    "def capitalize_list(list2):\n",
    "    cap_lst = []\n",
    "    cap_lst.append(list2)\n",
    "    cap_lst = [a.upper() for a in list2]\n",
    "    return(cap_lst)\n",
    "capitalize_list(['apple', 'banana', 'orange', 'mango', 'kiwi'])\n",
    "    "
   ]
  },
  {
   "attachments": {},
   "cell_type": "markdown",
   "metadata": {},
   "source": [
    "Question(11)"
   ]
  },
  {
   "cell_type": "code",
   "execution_count": 10,
   "metadata": {},
   "outputs": [
    {
     "data": {
      "text/plain": [
       "['apple', 'banana', 'orange', 'mango', 'kiwi']"
      ]
     },
     "execution_count": 10,
     "metadata": {},
     "output_type": "execute_result"
    }
   ],
   "source": [
    "def add_item(item = ['apple', 'banana', 'orange', 'mango']):\n",
    "\titem.append('kiwi')\n",
    "\treturn item\n",
    "\n",
    "add_item()"
   ]
  },
  {
   "attachments": {},
   "cell_type": "markdown",
   "metadata": {},
   "source": [
    "Question (12)"
   ]
  },
  {
   "cell_type": "code",
   "execution_count": 11,
   "metadata": {},
   "outputs": [
    {
     "data": {
      "text/plain": [
       "['apple', 'banana', 'orange', 'mango']"
      ]
     },
     "execution_count": 11,
     "metadata": {},
     "output_type": "execute_result"
    }
   ],
   "source": [
    "def add_item(item = ['apple', 'banana', 'orange', 'mango', 'kiwi']):\n",
    "\titem.remove('kiwi')\n",
    "\treturn item\n",
    "\n",
    "add_item()"
   ]
  },
  {
   "attachments": {},
   "cell_type": "markdown",
   "metadata": {},
   "source": [
    "Question (13)"
   ]
  },
  {
   "cell_type": "code",
   "execution_count": 20,
   "metadata": {},
   "outputs": [
    {
     "name": "stdout",
     "output_type": "stream",
     "text": [
      "The sum of all numbers:  5050\n"
     ]
    }
   ],
   "source": [
    "def sum_of_nums(num):\n",
    "\tsum = 0\n",
    "\tfor value in range(1, num + 1):\n",
    "\t\tsum += value\n",
    "\treturn sum\n",
    "print('The sum of all numbers: ', sum_of_nums(100))"
   ]
  },
  {
   "attachments": {},
   "cell_type": "markdown",
   "metadata": {},
   "source": [
    "Question (14"
   ]
  },
  {
   "cell_type": "code",
   "execution_count": 21,
   "metadata": {},
   "outputs": [
    {
     "name": "stdout",
     "output_type": "stream",
     "text": [
      "The sum of all numbers:  2550\n"
     ]
    }
   ],
   "source": [
    "def sum_of_even(num):\n",
    "\tsum = 0\n",
    "\tfor value in range(1, num + 1):\n",
    "\t\tif value % 2 ==0:\n",
    "\t\t\tsum += value\n",
    "\treturn sum\n",
    "print('The sum of all even numbers: ', sum_of_even(100))"
   ]
  },
  {
   "attachments": {},
   "cell_type": "markdown",
   "metadata": {},
   "source": [
    "Question (15)"
   ]
  },
  {
   "cell_type": "code",
   "execution_count": 22,
   "metadata": {},
   "outputs": [
    {
     "name": "stdout",
     "output_type": "stream",
     "text": [
      "The sum of all odd numbers:  2500\n"
     ]
    }
   ],
   "source": [
    "def sum_of_even(num):\n",
    "\tsum = 0\n",
    "\tfor value in range(1, num + 1):\n",
    "\t\tif value % 2 !=0:\n",
    "\t\t\tsum += value\n",
    "\treturn sum\n",
    "print('The sum of all odd numbers: ', sum_of_even(100))"
   ]
  },
  {
   "attachments": {},
   "cell_type": "markdown",
   "metadata": {},
   "source": [
    "EXERCISE LEVEL 2\n",
    "\n",
    "Question(1)"
   ]
  },
  {
   "cell_type": "code",
   "execution_count": 1,
   "metadata": {},
   "outputs": [
    {
     "name": "stdout",
     "output_type": "stream",
     "text": [
      "For 100, The number of odd are: 50 \n",
      "The number of even are: 51\n"
     ]
    }
   ],
   "source": [
    "def evens_and_odds(int):\n",
    "  num_even = 0\n",
    "  num_odd = 0\n",
    "  for i in range(int +1):\n",
    "    if i % 2 == 0:\n",
    "      num_even += 1\n",
    "    else: \n",
    "      num_odd +=1\n",
    "  return f'The number of odd are: {num_odd} \\nThe number of even are: {num_even}'\n",
    "  \n",
    "print(f'For 100, {evens_and_odds(100)}')\n"
   ]
  },
  {
   "attachments": {},
   "cell_type": "markdown",
   "metadata": {},
   "source": [
    "Question (2)"
   ]
  },
  {
   "cell_type": "code",
   "execution_count": 2,
   "metadata": {},
   "outputs": [
    {
     "name": "stdout",
     "output_type": "stream",
     "text": [
      "The factorial of 6 is 720 \n"
     ]
    }
   ],
   "source": [
    "def factorial(x):\n",
    "  fact = 1\n",
    "  for i in range(1,x+1):\n",
    "    fact *= i\n",
    "  return fact\n",
    "\n",
    "print(f'The factorial of 6 is {factorial(6)} ')"
   ]
  },
  {
   "attachments": {},
   "cell_type": "markdown",
   "metadata": {},
   "source": [
    "Question (3)"
   ]
  },
  {
   "cell_type": "code",
   "execution_count": 5,
   "metadata": {},
   "outputs": [
    {
     "name": "stdout",
     "output_type": "stream",
     "text": [
      "Is empty\n"
     ]
    }
   ],
   "source": [
    "def is_empty(y):\n",
    "  if len(y) == 0:\n",
    "    state = 'Is empty'\n",
    "  else:\n",
    "    state = ' is not empty'\n",
    "  return state\n",
    "print(is_empty([]))"
   ]
  },
  {
   "attachments": {},
   "cell_type": "markdown",
   "metadata": {},
   "source": [
    "Question (4)"
   ]
  },
  {
   "cell_type": "code",
   "execution_count": 4,
   "metadata": {},
   "outputs": [
    {
     "name": "stdout",
     "output_type": "stream",
     "text": [
      "The mean of [1,2,3,4,5]: 3.0\n",
      "The median of [1,3,4,5,2]: 3\n",
      "The median of [1,4,3,2]: 2.5\n",
      "The mode of [1,1,1,3,4,5,6,6,6,8,8,1,1]: [1]\n",
      "The range of [10,90,5,3,6,7]: 87\n",
      "The variance of [1,2,4,5,6,7,8]: 6.571428571428572\n",
      "The sd of [1,2,4,5,6,7,8] : 2.563479777846623\n"
     ]
    }
   ],
   "source": [
    "def calculate_mean(list):\n",
    "  sum = 0\n",
    "  for i in range(len(list)):\n",
    "    sum += list[i]\n",
    "  mean = sum / len(list)\n",
    "  return mean\n",
    "print(f'The mean of [1,2,3,4,5]: {calculate_mean([1,2,3,4,5])}')\n",
    "\n",
    "def calculate_median(list):\n",
    "  list_length = len(list)\n",
    "  list.sort()\n",
    "  if list_length % 2 == 0:\n",
    "    median = (list[list_length//2] + list[list_length//2 - 1])/2\n",
    "  else:\n",
    "    median = list[list_length//2]\n",
    "  return median\n",
    "\n",
    "print(f'The median of [1,3,4,5,2]: {calculate_median([1,3,4,5,2])}')\n",
    "print(f'The median of [1,4,3,2]: {calculate_median([1,4,3,2])}')\n",
    "\n",
    "def calculate_mode(list):\n",
    "  dic = {}\n",
    "  for item in list:\n",
    "      dic[item] = dic.get(item,0) + 1\n",
    "  return [i for  i,j in dic.items() if j == max(dic.values()) ]\n",
    "    \n",
    "print(f'The mode of [1,1,1,3,4,5,6,6,6,8,8,1,1]: {calculate_mode([1,1,1,3,4,5,6,6,6,8,8,1,1])}')\n",
    "\n",
    "def calculate_range(list):\n",
    "  list.sort()\n",
    "  range = list[len(list)-1] - list[0]\n",
    "  return range\n",
    "print(f'The range of [10,90,5,3,6,7]: {calculate_range([10,90,5,3,6,7])}')\n",
    "\n",
    "def calculate_variance(list):\n",
    "  sum = 0\n",
    "  sum_of_diffs = 0\n",
    "  for i in range(len(list)):\n",
    "    sum += list[i]\n",
    "  mean = sum / len(list)\n",
    "  for i in range(len(list)):\n",
    "    sum_of_diffs +=  (list[i] - mean ) ** 2\n",
    "  variance = sum_of_diffs/(len(list) - 1)\n",
    "  return variance\n",
    "\n",
    "print(f'The variance of [1,2,4,5,6,7,8]: {calculate_variance([1,2,4,5,6,7,8])}')\n",
    "\n",
    "def calculate_std(list):\n",
    "  sum = 0\n",
    "  sum_of_diffs = 0\n",
    "  for i in range(len(list)):\n",
    "    sum += list[i]\n",
    "  mean = sum / len(list)\n",
    "  for i in range(len(list)):\n",
    "    sum_of_diffs +=  ((list[i] - mean ) ** 2)\n",
    "  sd = (sum_of_diffs/(len(list)-1)) ** (1/2)\n",
    "  return sd\n",
    "\n",
    "print(f'The sd of [1,2,4,5,6,7,8] : {calculate_std([1,2,4,5,6,7,8])}')"
   ]
  },
  {
   "attachments": {},
   "cell_type": "markdown",
   "metadata": {},
   "source": [
    "EXERCISE LEVEL 3\n",
    "\n",
    "Question (1)"
   ]
  },
  {
   "cell_type": "code",
   "execution_count": 10,
   "metadata": {},
   "outputs": [
    {
     "name": "stdout",
     "output_type": "stream",
     "text": [
      "9:  Not Prime\n"
     ]
    }
   ],
   "source": [
    "def is_prime(x):\n",
    "  d = []\n",
    "  for i in range(2,x):\n",
    "     if  x % i == 0:\n",
    "       d.append(i)\n",
    "  if len(d) == 0:\n",
    "    prime = 'Prime'\n",
    "  else:\n",
    "    prime = 'Not Prime'\n",
    "  return prime\n",
    "\n",
    "print(f'9:  {is_prime(9)}')"
   ]
  },
  {
   "attachments": {},
   "cell_type": "markdown",
   "metadata": {},
   "source": [
    "Question (2)"
   ]
  },
  {
   "cell_type": "code",
   "execution_count": 8,
   "metadata": {},
   "outputs": [
    {
     "name": "stdout",
     "output_type": "stream",
     "text": [
      "Are items in [2, 5, 3, 1, 3, 10] unique? :   Some items are duplicated\n"
     ]
    }
   ],
   "source": [
    "def check_unique(list):\n",
    "  if len(list) == len(set(list)):\n",
    "    result = 'items are unique'\n",
    "  else:\n",
    "    result = 'Some items are duplicated'\n",
    "  return result\n",
    "print(f'Are items in [2, 5, 3, 1, 3, 10] unique? :   {check_unique([2, 5, 3, 1, 3, 10])}')"
   ]
  },
  {
   "attachments": {},
   "cell_type": "markdown",
   "metadata": {},
   "source": [
    "Question (3)"
   ]
  },
  {
   "cell_type": "code",
   "execution_count": 4,
   "metadata": {},
   "outputs": [
    {
     "name": "stdout",
     "output_type": "stream",
     "text": [
      "All items in the list are of the same data type\n"
     ]
    }
   ],
   "source": [
    "def same_data_type(list):\n",
    "  types = []\n",
    "  for i in range(len(list)):\n",
    "    types.append(type(list[i]))\n",
    "  set_type = set(types)\n",
    "  if len(set_type) == 1:\n",
    "    data = \"All items in the list are of the same data type\"\n",
    "  else:\n",
    "    data = \"Items in the list are not of the same data type\"\n",
    "  return data\n",
    "print(same_data_type(['friends','foes',]))"
   ]
  },
  {
   "attachments": {},
   "cell_type": "markdown",
   "metadata": {},
   "source": [
    "Question (4)"
   ]
  },
  {
   "cell_type": "code",
   "execution_count": 11,
   "metadata": {},
   "outputs": [
    {
     "data": {
      "text/plain": [
       "'Not a valid variable name'"
      ]
     },
     "execution_count": 11,
     "metadata": {},
     "output_type": "execute_result"
    }
   ],
   "source": [
    "def is_python_variable(name):\n",
    "    if name[0] not in ['0','1','2','3','4','5','6','7','8','9'] and ' ' not in name:\n",
    "       result = 'A valid variable name'\n",
    "    else:\n",
    "      result = 'Not a valid variable name'\n",
    "    return result\n",
    "\n",
    "is_python_variable('1_h')"
   ]
  },
  {
   "cell_type": "markdown",
   "metadata": {},
   "source": [
    "Question (5)"
   ]
  },
  {
   "cell_type": "code",
   "execution_count": 1,
   "metadata": {},
   "outputs": [
    {
     "name": "stdout",
     "output_type": "stream",
     "text": [
      "most spoken languages:  [('English', 91), ('French', 45), ('Arabic', 25), ('Spanish', 24), ('Portuguese', 9), ('Russian', 9), ('Dutch', 8), ('German', 7), ('Chinese', 5), ('Serbian', 4)]\n",
      "most populated countries: ['China', 'India', 'United States of America', 'Indonesia', 'Brazil', 'Pakistan', 'Nigeria', 'Bangladesh', 'Russian Federation', 'Japan']\n"
     ]
    }
   ],
   "source": [
    "from country_data import countries_data\n",
    "def most_spoken_languages():\n",
    "\n",
    "    # looping to get dict of languages\n",
    "    languages = []\n",
    "    for i in range(len(countries_data)):\n",
    "      languages.extend(countries_data[i]['languages'])\n",
    "\n",
    "    lang = {}\n",
    "    for language in languages:\n",
    "        lang[language] = lang.get(language,0) + 1\n",
    "\n",
    "# sorting the list of the tuples to get the most spoken languages\n",
    "    sorted_lang = sorted(lang.items(), key= lambda x:x[1],reverse=True)\n",
    "    sorted_lang # contains the languages arranged based on values\n",
    "    # for the top ten, another loop\n",
    "    top_ten = []\n",
    "    for i in range(10):\n",
    "        top_ten.append(sorted_lang[i])\n",
    "    return top_ten\n",
    "\n",
    "print(f'most spoken languages:  {most_spoken_languages()}')\n",
    "\n",
    "\n",
    "\n",
    "\n",
    "def most_populated_countries():\n",
    "    population = {}\n",
    "    for i in range(len(countries_data)):\n",
    "        keys = countries_data[i]['name']\n",
    "        values = countries_data[i]['population']\n",
    "        population[keys] = values\n",
    "# sorting the list of the tuples to get the most spoken languages\n",
    "    sorted_pop = sorted(population.items(), key= lambda x:x[1],reverse=True)\n",
    " # contains the languages arranged based on values\n",
    "# for the top ten, another loop\n",
    "    most_pop = []\n",
    "    for i in range(10):\n",
    "        most_pop.append(sorted_pop[i][0])\n",
    "\n",
    "    return most_pop\n",
    "\n",
    "print(f'most populated countries: {most_populated_countries()}')"
   ]
  }
 ],
 "metadata": {
  "kernelspec": {
   "display_name": "Python 3",
   "language": "python",
   "name": "python3"
  },
  "language_info": {
   "codemirror_mode": {
    "name": "ipython",
    "version": 3
   },
   "file_extension": ".py",
   "mimetype": "text/x-python",
   "name": "python",
   "nbconvert_exporter": "python",
   "pygments_lexer": "ipython3",
   "version": "3.11.0"
  },
  "orig_nbformat": 4,
  "vscode": {
   "interpreter": {
    "hash": "2f1a2eacb683bb06bd5c158a4e3bf200b129d414ee0e1c88e9c74e55ea9e8d37"
   }
  }
 },
 "nbformat": 4,
 "nbformat_minor": 2
}
