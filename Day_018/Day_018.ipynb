{
 "cells": [
  {
   "attachments": {},
   "cell_type": "markdown",
   "metadata": {},
   "source": [
    "# DAY 18\n",
    "### EXERCISE LEVEL 1"
   ]
  },
  {
   "attachments": {},
   "cell_type": "markdown",
   "metadata": {},
   "source": [
    "**Question (1)**\n",
    "\n",
    "What is the most frequent word in the following paragraph?\n",
    "\n",
    "**paragraph** = 'I love teaching. If you do not love teaching what else can you love. I love Python if you do not love something which can give you all the capabilities to develop an application what else can you love.'"
   ]
  },
  {
   "cell_type": "code",
   "execution_count": 6,
   "metadata": {},
   "outputs": [
    {
     "data": {
      "text/plain": [
       "('love', 6)"
      ]
     },
     "execution_count": 6,
     "metadata": {},
     "output_type": "execute_result"
    }
   ],
   "source": [
    "import re\n",
    "\n",
    "paragraph = 'I love teaching. If you do not love teaching what else can you love. I love Python if you do not love something which can give you all the capabilities to develop an application what else can you love.'\n",
    "words = paragraph.replace('.','').split(' ')\n",
    "dict = {}\n",
    "for word in words:\n",
    "    dict[word] = dict.get(word,0) + 1\n",
    "sort_keysval = sorted(dict.items(),key = lambda a:a[1], reverse=True)\n",
    "sort_keysval[0]"
   ]
  },
  {
   "attachments": {},
   "cell_type": "markdown",
   "metadata": {},
   "source": [
    "**Question (1)**\n",
    "\n",
    "The position of some particles on the horizontal x-axis are -12, -4, -3 and -1 in the negative direction, 0 at origin, 4 and 8 in the positive direction. Extract these numbers from this whole text and find the distance between the two furthest particles.\n",
    "\n",
    "points = ['-1', '2', '-4', '-3', '-1', '0', '4', '8']<br>\n",
    "sorted_points =  [-4, -3, -1, -1, 0, 2, 4, 8]<br>\n",
    "distance = 8 -(-4) # 12"
   ]
  },
  {
   "cell_type": "code",
   "execution_count": 8,
   "metadata": {},
   "outputs": [
    {
     "name": "stdout",
     "output_type": "stream",
     "text": [
      "points before sorting: ['-1', '2', '-4', '-3', '-1', '0', '4', '8']\n",
      "points after sorting: ['-1', '-1', '-3', '-4', '0', '2', '4', '8']\n",
      "numbers: [-1, -1, -3, -4, 0, 2, 4, 8]\n",
      "[-4, -3, -1, -1, 0, 2, 4, 8]\n",
      "The distance between the two furthest particles is 12 \n"
     ]
    }
   ],
   "source": [
    "string = 'The position of some particles on the horizontal x-axis are -12, -4, -3 and -1 in the negative direction, 0 at origin, 4 and 8 in the positive direction. Extract these numbers from this whole text and find the distance between the two furthest particles.'\n",
    "regex= r'-\\d|\\d'\n",
    "points = re.findall(regex,string)\n",
    "print(f'points before sorting: {points}')   \n",
    "points.sort()\n",
    "print(f'points after sorting: {points}')   \n",
    "# Getting the numbers as integers from strings\n",
    "numbers = [int(i) for i in points]\n",
    "print(f'numbers: {numbers}')\n",
    "numbers.sort()  # sorting from highest to lowest\n",
    "print(numbers)\n",
    "distance = numbers[-1] - numbers[0]\n",
    "\n",
    "print(f'The distance between the two furthest particles is {distance} ')"
   ]
  },
  {
   "attachments": {},
   "cell_type": "markdown",
   "metadata": {},
   "source": [
    "### EXERCISE LEVEL 2\n",
    "\n",
    "**Question (1)**\n",
    "<br>Write a pattern which identifies if a string is a valid python variable<br>\n",
    "is_valid_variable('first_name') # True<br>\n",
    "is_valid_variable('first-name') # False<br>\n",
    "is_valid_variable('1first_name') # False<br>\n",
    "is_valid_variable('firstname') # True"
   ]
  },
  {
   "cell_type": "code",
   "execution_count": 11,
   "metadata": {},
   "outputs": [
    {
     "name": "stdout",
     "output_type": "stream",
     "text": [
      "Valid\n",
      "Not Valid\n",
      "Not Valid\n",
      "Valid\n"
     ]
    }
   ],
   "source": [
    "pattern = r\"^[_a-z]\\w*$\"\n",
    "def is_valid_variable(name):\n",
    "    '''Identify if a string is a valid Python variable'''\n",
    "    pattern = r\"^[_a-z]\\w*$\"\n",
    "    if not re.match(pattern,name):\n",
    "        print('Not Valid')\n",
    "    else:\n",
    "        print('Valid')\n",
    "\n",
    "is_valid_variable('first_name') \n",
    "is_valid_variable('first-name') \n",
    "is_valid_variable('1first_name') \n",
    "is_valid_variable('firstname')"
   ]
  },
  {
   "attachments": {},
   "cell_type": "markdown",
   "metadata": {},
   "source": [
    "### EXERCISE LEVEL 3\n",
    "**Question (1)**<br>\n",
    "\n",
    "Clean the following text. After cleaning, count three most frequent words in the string.<br>\n",
    "\n",
    "sentence = '''%I $am@% a %tea@cher%, &and& I lo%#ve %tea@ching%;. There $is nothing; &as& mo@re rewarding as educa@ting &and& @emp%o@wering peo@ple. ;I found tea@ching m%o@re interesting tha@n any other %jo@bs. %Do@es thi%s mo@tivate yo@u to be a tea@cher!?'''\n",
    "\n",
    "print(clean_text(sentence));\n",
    "I am a teacher and I love teaching There is nothing as more rewarding as educating and empowering people I found teaching more interesting than any other jobs Does this motivate you to be a teacher\n",
    "print(most_frequent_words(cleaned_text)) # [(3, 'I'), (2, 'teaching'), (2, 'teacher')]"
   ]
  },
  {
   "cell_type": "code",
   "execution_count": 9,
   "metadata": {},
   "outputs": [
    {
     "data": {
      "text/plain": [
       "[(3, 'I'), (2, 'teaching'), (2, 'teacher')]"
      ]
     },
     "execution_count": 9,
     "metadata": {},
     "output_type": "execute_result"
    }
   ],
   "source": [
    "sentence = '''%I $am@% a %tea@cher%, &and& I lo%#ve %tea@ching%;. There $is nothing; &as& mo@re rewarding as educa@ting &and& @emp%o@wering peo@ple. ;I found tea@ching m%o@re interesting tha@n any other %jo@bs. %Do@es thi%s mo@tivate yo@u to be a tea@cher!?'''\n",
    "pattern = r'[^\\w\\s]'\n",
    "clean_sentence = re.sub(pattern,'',sentence)\n",
    "\n",
    "def most_frequent_words(text):\n",
    "    '''Returns the three most frequent words in clean sentences i.e. sentences without punctuation marks.\n",
    "    '''\n",
    "    words = text.split()\n",
    "    d = {}\n",
    "    for word in words:\n",
    "        d[word] = d.get(word,0) + 1\n",
    "    list = [(val,key) for key,val in d.items()]\n",
    "    list.sort(reverse=True)\n",
    "    return list[:3]\n",
    "\n",
    "most_frequent_words(clean_sentence)"
   ]
  }
 ],
 "metadata": {
  "kernelspec": {
   "display_name": "Python 3",
   "language": "python",
   "name": "python3"
  },
  "language_info": {
   "codemirror_mode": {
    "name": "ipython",
    "version": 3
   },
   "file_extension": ".py",
   "mimetype": "text/x-python",
   "name": "python",
   "nbconvert_exporter": "python",
   "pygments_lexer": "ipython3",
   "version": "3.11.0"
  },
  "orig_nbformat": 4,
  "vscode": {
   "interpreter": {
    "hash": "2f1a2eacb683bb06bd5c158a4e3bf200b129d414ee0e1c88e9c74e55ea9e8d37"
   }
  }
 },
 "nbformat": 4,
 "nbformat_minor": 2
}
