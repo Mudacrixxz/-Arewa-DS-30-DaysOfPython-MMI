{
 "cells": [
  {
   "attachments": {},
   "cell_type": "markdown",
   "metadata": {},
   "source": [
    "# DAY 18\n",
    "## EXERCISES"
   ]
  },
  {
   "attachments": {},
   "cell_type": "markdown",
   "metadata": {},
   "source": [
    "**Question (1)**\n",
    "\n",
    "What is the most frequent word in the following paragraph?\n",
    "\n",
    "**paragraph** = 'I love teaching. If you do not love teaching what else can you love. I love Python if you do not love something which can give you all the capabilities to develop an application what else can you love.'"
   ]
  },
  {
   "cell_type": "code",
   "execution_count": 5,
   "metadata": {},
   "outputs": [
    {
     "data": {
      "text/plain": [
       "('love', 6)"
      ]
     },
     "execution_count": 5,
     "metadata": {},
     "output_type": "execute_result"
    }
   ],
   "source": [
    "paragraph = 'I love teaching. If you do not love teaching what else can you love. I love Python if you do not love something which can give you all the capabilities to develop an application what else can you love.'\n",
    "words = paragraph.replace('.','').split(' ')\n",
    "dict = {}\n",
    "for word in words:\n",
    "    dict[word] = dict.get(word,0) + 1\n",
    "sort_keysval = sorted(dict.items(),key = lambda a:a[1], reverse=True)\n",
    "sort_keysval[0]"
   ]
  }
 ],
 "metadata": {
  "kernelspec": {
   "display_name": "Python 3",
   "language": "python",
   "name": "python3"
  },
  "language_info": {
   "codemirror_mode": {
    "name": "ipython",
    "version": 3
   },
   "file_extension": ".py",
   "mimetype": "text/x-python",
   "name": "python",
   "nbconvert_exporter": "python",
   "pygments_lexer": "ipython3",
   "version": "3.11.0"
  },
  "orig_nbformat": 4,
  "vscode": {
   "interpreter": {
    "hash": "2f1a2eacb683bb06bd5c158a4e3bf200b129d414ee0e1c88e9c74e55ea9e8d37"
   }
  }
 },
 "nbformat": 4,
 "nbformat_minor": 2
}
