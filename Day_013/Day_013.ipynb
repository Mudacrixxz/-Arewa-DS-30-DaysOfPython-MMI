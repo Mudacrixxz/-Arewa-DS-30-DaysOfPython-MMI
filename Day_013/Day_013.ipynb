{
 "cells": [
  {
   "attachments": {},
   "cell_type": "markdown",
   "metadata": {},
   "source": [
    "DAY 13\n",
    "\n",
    "Questions (1)\n",
    "\n",
    "Filter only negative and zero in the list using list comprehension\n",
    "\n",
    "numbers = [-4, -3, -2, -1, 0, 2, 4, 6]"
   ]
  },
  {
   "cell_type": "code",
   "execution_count": 2,
   "metadata": {},
   "outputs": [
    {
     "name": "stdout",
     "output_type": "stream",
     "text": [
      "Zero and Negative:  [-4, -3, -2, -1, 0]\n"
     ]
    }
   ],
   "source": [
    "numbers = [-4, -3, -2, -1, 0, 2, 4, 6]\n",
    "neg_and_zero = [num for num in numbers \tif num <= 0]\n",
    "print('Zero and Negative: ', neg_and_zero)\n"
   ]
  },
  {
   "attachments": {},
   "cell_type": "markdown",
   "metadata": {},
   "source": [
    "Question (2)\n",
    "\n",
    "Flatten the following list of lists of lists to a one dimensional list :\n",
    "\n",
    "list_of_lists =[[[1, 2, 3]], [[4, 5, 6]], [[7, 8, 9]]]"
   ]
  },
  {
   "cell_type": "code",
   "execution_count": 8,
   "metadata": {},
   "outputs": [
    {
     "name": "stdout",
     "output_type": "stream",
     "text": [
      "The flattened list b : [1, 2, 3, 4, 5, 6, 7, 8, 9]\n",
      "\n",
      "The flattened list c : [1, 2, 3, 4, 5, 6, 7, 8, 9]\n"
     ]
    }
   ],
   "source": [
    "listOflists = [[[1,2,3]],[[4,5,6]],[[7,8,9]]]\n",
    "# In steps\n",
    "a = [num for row in listOflists for num in row]\n",
    "b = [num for row in a for num in row]\n",
    "# Trying at once\n",
    "\n",
    "# levels = number -> list > row -> list_of_lists\n",
    "c = [num for row in listOflists for list in row for num in list]\n",
    "print(f'The flattened list b : {b}\\n')\n",
    "print(f'The flattened list c : {c}')"
   ]
  }
 ],
 "metadata": {
  "kernelspec": {
   "display_name": "Python 3",
   "language": "python",
   "name": "python3"
  },
  "language_info": {
   "codemirror_mode": {
    "name": "ipython",
    "version": 3
   },
   "file_extension": ".py",
   "mimetype": "text/x-python",
   "name": "python",
   "nbconvert_exporter": "python",
   "pygments_lexer": "ipython3",
   "version": "3.11.0"
  },
  "orig_nbformat": 4,
  "vscode": {
   "interpreter": {
    "hash": "2f1a2eacb683bb06bd5c158a4e3bf200b129d414ee0e1c88e9c74e55ea9e8d37"
   }
  }
 },
 "nbformat": 4,
 "nbformat_minor": 2
}
