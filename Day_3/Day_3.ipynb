{
 "cells": [
  {
   "attachments": {},
   "cell_type": "markdown",
   "metadata": {},
   "source": [
    "DAY 3\n",
    "\n",
    "EXERCISE LEVEL 1\n",
    "\n",
    "Questions (1,2 & 3)"
   ]
  },
  {
   "cell_type": "code",
   "execution_count": null,
   "metadata": {},
   "outputs": [],
   "source": [
    "age = 20\n",
    "height = 140\n",
    "complx = 2 + 3j"
   ]
  },
  {
   "cell_type": "markdown",
   "metadata": {},
   "source": [
    "Questions (4)"
   ]
  },
  {
   "cell_type": "code",
   "execution_count": null,
   "metadata": {},
   "outputs": [],
   "source": [
    "'''This program will require input from user,that is base and height will be inputed through keyboard '''\n",
    "#Area of Triangle\n",
    "print('Enter Base')\n",
    "base = float(input())\n",
    "print('Enter Height')\n",
    "h = float(input())\n",
    "\n",
    "area_of_triangle = (base * h)/2\n",
    "print('The area of triangle is: {0:.2f}'.format(area_of_triangle))"
   ]
  },
  {
   "cell_type": "markdown",
   "metadata": {},
   "source": [
    "Questions (5)"
   ]
  },
  {
   "cell_type": "code",
   "execution_count": null,
   "metadata": {},
   "outputs": [],
   "source": [
    "'''This program will require input from user, \n",
    "That is the three sides of triangle will be inputed through keyboard '''\n",
    "#Perimeter of Triangle\n",
    "print('Enter side a')\n",
    "s1 = float(input())\n",
    "\n",
    "print('Enter side b')\n",
    "s2 = float(input())\n",
    "\n",
    "print('Enter side c')\n",
    "s3 = float(input())\n",
    "\n",
    "perimeter = s1+s2+s3\n",
    "print(\"\\nPerimeter = \", perimeter)"
   ]
  },
  {
   "cell_type": "markdown",
   "metadata": {},
   "source": [
    "Questions (6)"
   ]
  },
  {
   "cell_type": "code",
   "execution_count": null,
   "metadata": {},
   "outputs": [],
   "source": [
    "#Area and Perimeter of Rectangle\n",
    "print('Enter Length')\n",
    "lenght = float(input())\n",
    "print('Enter Width')\n",
    "width = float(input())\n",
    "\n",
    "area_of_rectangle = lenght * width\n",
    "perimeter_of_rectangle = 2 * (lenght + width)\n",
    "print(\"\\nArea of rectangle = \", area_of_rectangle)\n",
    "print(\"Perimeter of rectangle = \",perimeter_of_rectangle)"
   ]
  },
  {
   "cell_type": "markdown",
   "metadata": {},
   "source": [
    "Questions (7)"
   ]
  },
  {
   "cell_type": "code",
   "execution_count": null,
   "metadata": {},
   "outputs": [],
   "source": [
    "#Area and circumference of a Circle\n",
    "Pi = 3.14\n",
    "print('Enter Radius')\n",
    "radius = float(input())\n",
    "\n",
    "area_of_circlee = Pi * radius **2\n",
    "circumference = 2 * Pi * radius\n",
    "print(\"\\nArea of circle = \", area_of_circlee)\n",
    "print(\"circumference of circle = \", circumference)"
   ]
  },
  {
   "attachments": {},
   "cell_type": "markdown",
   "metadata": {},
   "source": [
    "Questions (8 - 11)"
   ]
  },
  {
   "cell_type": "code",
   "execution_count": null,
   "metadata": {},
   "outputs": [],
   "source": [
    "x = float(input('Enter the intercept x: '))\n",
    "slope1 = 2 * x - 2 \n",
    "print('The Slope is: ', slope1)\n",
    "\n",
    "\n",
    "x1, x2, y1, y2 = 2, 2, 6, 10\n",
    "slope2 = (y2-y1 / x2-x1)\n",
    "print('The Slope is: ', slope2)\n",
    "\n",
    "#compare\n",
    "print(slope1 is slope2)\n",
    "\n",
    "\n",
    "import math\n",
    "euclidean_dist =  math.sqrt((x1-y1)**2 + (x2-y2)**2)\n",
    "print('the euclidean distance : ', euclidean_dist)"
   ]
  },
  {
   "cell_type": "markdown",
   "metadata": {},
   "source": [
    "Questions (12)"
   ]
  },
  {
   "cell_type": "code",
   "execution_count": 1,
   "metadata": {},
   "outputs": [
    {
     "name": "stdout",
     "output_type": "stream",
     "text": [
      "6\n",
      "6\n",
      "False\n"
     ]
    }
   ],
   "source": [
    "print(len('python'))\n",
    "print(len('dragon'))\n",
    "print(len('python') > len('dragon'))"
   ]
  },
  {
   "cell_type": "markdown",
   "metadata": {},
   "source": [
    "Questions (13)"
   ]
  },
  {
   "cell_type": "code",
   "execution_count": 2,
   "metadata": {},
   "outputs": [
    {
     "name": "stdout",
     "output_type": "stream",
     "text": [
      "True\n"
     ]
    }
   ],
   "source": [
    "print('on' in 'python' and 'on' in 'dragon')  #True"
   ]
  },
  {
   "cell_type": "markdown",
   "metadata": {},
   "source": [
    "Questions (14)"
   ]
  },
  {
   "cell_type": "code",
   "execution_count": 3,
   "metadata": {},
   "outputs": [
    {
     "name": "stdout",
     "output_type": "stream",
     "text": [
      "True\n"
     ]
    }
   ],
   "source": [
    "print('jargon' in 'I hope this course is not full of jargon') #True #checking if jargon exist in the sentence"
   ]
  },
  {
   "cell_type": "markdown",
   "metadata": {},
   "source": [
    "Questions (15)"
   ]
  },
  {
   "cell_type": "code",
   "execution_count": 4,
   "metadata": {},
   "outputs": [
    {
     "name": "stdout",
     "output_type": "stream",
     "text": [
      "False\n"
     ]
    }
   ],
   "source": [
    "#False #checking if python and dragon doesn't exist in the sentence\n",
    "print('on' not in 'python' and 'on' not in 'dragon') "
   ]
  },
  {
   "cell_type": "markdown",
   "metadata": {},
   "source": [
    "Questions (16)"
   ]
  },
  {
   "cell_type": "code",
   "execution_count": 5,
   "metadata": {},
   "outputs": [
    {
     "name": "stdout",
     "output_type": "stream",
     "text": [
      "6\n",
      "6.0\n",
      "6\n"
     ]
    }
   ],
   "source": [
    "name = 'python'\n",
    "python_len = len(name)\n",
    "cnvrt_to_float = float(python_len)\n",
    "cnvrt_to_str = str(python_len)\n",
    "print(python_len)\n",
    "print(cnvrt_to_float)\n",
    "print(cnvrt_to_str)"
   ]
  },
  {
   "cell_type": "markdown",
   "metadata": {},
   "source": [
    "Questions (17)"
   ]
  },
  {
   "cell_type": "code",
   "execution_count": 6,
   "metadata": {},
   "outputs": [
    {
     "name": "stdout",
     "output_type": "stream",
     "text": [
      "Enter a Number \n"
     ]
    }
   ],
   "source": [
    "#Checking if a number is an Even  or Odd \n",
    "print(\"Enter a Number \")\n",
    "x = int(input())\n",
    "\n",
    "if x % 2==0:\n",
    "    print('The Number is Even')\n",
    "else:\n",
    "    print('The Number is Odd')"
   ]
  },
  {
   "cell_type": "markdown",
   "metadata": {},
   "source": [
    "Questions (18)"
   ]
  },
  {
   "cell_type": "code",
   "execution_count": 1,
   "metadata": {},
   "outputs": [
    {
     "name": "stdout",
     "output_type": "stream",
     "text": [
      "2\n",
      "2\n",
      "True\n"
     ]
    }
   ],
   "source": [
    "floor_div = 7//3 #2\n",
    "print(floor_div)\n",
    "\n",
    "cnvrt_value = int(2.7)   #2\n",
    "print(cnvrt_value)\n",
    "\n",
    "print(floor_div is cnvrt_value) #True because floor division of 7 by 3 == converted value of 2.7"
   ]
  },
  {
   "cell_type": "markdown",
   "metadata": {},
   "source": [
    "Questions (19)"
   ]
  },
  {
   "cell_type": "code",
   "execution_count": 2,
   "metadata": {},
   "outputs": [
    {
     "name": "stdout",
     "output_type": "stream",
     "text": [
      "False\n"
     ]
    }
   ],
   "source": [
    "print(type('10') is type(10)) #Flase because type '10' is a string while type 10 is an int"
   ]
  },
  {
   "cell_type": "markdown",
   "metadata": {},
   "source": [
    "Questions (20)"
   ]
  },
  {
   "cell_type": "code",
   "execution_count": 2,
   "metadata": {},
   "outputs": [
    {
     "name": "stdout",
     "output_type": "stream",
     "text": [
      "False\n"
     ]
    }
   ],
   "source": [
    "my_str = '9.8'\n",
    "my_int = 10\n",
    "\n",
    "equal = my_str == my_int  #False because ('9.8') is a string while 10 is an int\n",
    "print(equal)"
   ]
  },
  {
   "cell_type": "markdown",
   "metadata": {},
   "source": [
    "Questions (21)"
   ]
  },
  {
   "cell_type": "code",
   "execution_count": null,
   "metadata": {},
   "outputs": [],
   "source": [
    "'''In this program user need to enter \n",
    "the hours and rate per hour '''\n",
    "hours = int(input('Enter hours: '))\n",
    "rate = int(input('Enter rate per hour: '))\n",
    "\n",
    "weekly_earning =  hours * rate\n",
    "print('Your weekly earning is: ', weekly_earning)"
   ]
  },
  {
   "cell_type": "markdown",
   "metadata": {},
   "source": [
    "Questions (22)"
   ]
  },
  {
   "cell_type": "code",
   "execution_count": null,
   "metadata": {},
   "outputs": [],
   "source": [
    "'''In this program user need to enter \n",
    "the number of years '''\n",
    "years = int(input('Enter number of years you have lived: '))\n",
    "total =  31536000 * years\n",
    "print('You have lived for ', total,' ', 'seconds')\n",
    "\n"
   ]
  },
  {
   "cell_type": "markdown",
   "metadata": {},
   "source": [
    "Questions (23)"
   ]
  },
  {
   "cell_type": "code",
   "execution_count": 1,
   "metadata": {},
   "outputs": [
    {
     "name": "stdout",
     "output_type": "stream",
     "text": [
      "1 1 1 1 1\n",
      "2 1 2 4 8\n",
      "3 1 3 9 27\n",
      "4 1 4 16 64\n",
      "5 1 5 25 125\n"
     ]
    }
   ],
   "source": [
    "t = '1 1 1 1 1', '2 1 2 4 8', '3 1 3 9 27', '4 1 4 16 64', '5 1 5 25 125'\n",
    "\n",
    "for i in t:\n",
    "    print(i)"
   ]
  }
 ],
 "metadata": {
  "kernelspec": {
   "display_name": "Python 3.11.0 64-bit",
   "language": "python",
   "name": "python3"
  },
  "language_info": {
   "codemirror_mode": {
    "name": "ipython",
    "version": 3
   },
   "file_extension": ".py",
   "mimetype": "text/x-python",
   "name": "python",
   "nbconvert_exporter": "python",
   "pygments_lexer": "ipython3",
   "version": "3.11.0"
  },
  "orig_nbformat": 4,
  "vscode": {
   "interpreter": {
    "hash": "2f1a2eacb683bb06bd5c158a4e3bf200b129d414ee0e1c88e9c74e55ea9e8d37"
   }
  }
 },
 "nbformat": 4,
 "nbformat_minor": 2
}
