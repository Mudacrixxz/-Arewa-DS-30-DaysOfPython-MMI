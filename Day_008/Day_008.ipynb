{
 "cells": [
  {
   "attachments": {},
   "cell_type": "markdown",
   "metadata": {},
   "source": [
    "DAY 8\n",
    "\n",
    "Question (1 - 2)"
   ]
  },
  {
   "cell_type": "code",
   "execution_count": 6,
   "metadata": {},
   "outputs": [
    {
     "name": "stdout",
     "output_type": "stream",
     "text": [
      "{'name': 'Rio', 'color': 'White', 'breed': 'Bull Dog', 'legs': 'Short', 'age': '5 month'}\n"
     ]
    }
   ],
   "source": [
    "dog = {}\n",
    "\n",
    "dog.update({'name':  'Rio'}) \n",
    "dog.update({'color':  'White'})\n",
    "dog.update({'breed':  'Bull Dog'})\n",
    "dog.update({'legs':  'Short'})\n",
    "dog.update({'age': '5 month'})\n",
    "print(dog)"
   ]
  },
  {
   "attachments": {},
   "cell_type": "markdown",
   "metadata": {},
   "source": [
    "Question (3 -5)"
   ]
  },
  {
   "cell_type": "code",
   "execution_count": 32,
   "metadata": {},
   "outputs": [
    {
     "name": "stdout",
     "output_type": "stream",
     "text": [
      "9\n",
      "['HTML', 'Python', 'CSS', 'Java']\n",
      "<class 'list'>\n"
     ]
    }
   ],
   "source": [
    "student = { \n",
    "\t'first_name': 'Mahmud', \n",
    "\t'last_name': 'Mahmud',\n",
    "\t'gender': 'Male',\n",
    "\t'age': 25, \n",
    "\t'marital status': 'Single',\n",
    "\t'skills': ['HTML', 'Python', 'CSS', 'Java'],\n",
    "\t'country': 'Nigeria',\n",
    "\t'city': 'Kano',\n",
    "\t'address': 'Naibawa street'  \n",
    "\t}\n",
    "\n",
    "\n",
    "print(len(student))\n",
    "\n",
    "\n",
    "getting = student.get('skills')\n",
    "print(getting)\n",
    "print(type(getting))"
   ]
  },
  {
   "attachments": {},
   "cell_type": "markdown",
   "metadata": {},
   "source": [
    "Question (6 - 9)"
   ]
  },
  {
   "cell_type": "code",
   "execution_count": 24,
   "metadata": {},
   "outputs": [
    {
     "name": "stdout",
     "output_type": "stream",
     "text": [
      "{'first_name': 'Mahmud', 'last_name': 'Mahmud', 'gender': 'Male', 'age': 25, 'marital status': 'Single', 'skills': ['HTML', 'Python', 'CSS', 'Java', 'C++', 'C++', 'C++', 'C++', 'C++', 'C++', 'C++', 'C++'], 'country': 'Nigeria', 'city': 'Kano', 'address': 'Naibawa street'}\n",
      "['first_name', 'last_name', 'gender', 'age', 'marital status', 'skills', 'country', 'city', 'address']\n",
      "['Mahmud', 'Mahmud', 'Male', 25, 'Single', ['HTML', 'Python', 'CSS', 'Java', 'C++', 'C++', 'C++', 'C++', 'C++', 'C++', 'C++', 'C++'], 'Nigeria', 'Kano', 'Naibawa street']\n",
      "List Of Tuple\n",
      "dict_items([('first_name', 'Mahmud'), ('last_name', 'Mahmud'), ('gender', 'Male'), ('age', 25), ('marital status', 'Single'), ('skills', ['HTML', 'Python', 'CSS', 'Java', 'C++', 'C++', 'C++', 'C++', 'C++', 'C++', 'C++', 'C++']), ('country', 'Nigeria'), ('city', 'Kano'), ('address', 'Naibawa street')])\n"
     ]
    }
   ],
   "source": [
    "student['skills'].append('C++')\n",
    "print(student)\n",
    "\n",
    "#Getting Keys as list\n",
    "keyList = list(student.keys()) \n",
    "print(keyList)\n",
    "\n",
    "#Getting Values as list\n",
    "keyList = list(student.values()) \n",
    "print(keyList)\n",
    "\n",
    "print('List Of Tuple')\n",
    "print(student.items())"
   ]
  },
  {
   "attachments": {},
   "cell_type": "markdown",
   "metadata": {},
   "source": [
    "Question (10 - 11)"
   ]
  },
  {
   "cell_type": "code",
   "execution_count": 33,
   "metadata": {},
   "outputs": [
    {
     "name": "stdout",
     "output_type": "stream",
     "text": [
      "('address', 'Naibawa street')\n",
      "{'first_name': 'Mahmud', 'last_name': 'Mahmud', 'gender': 'Male', 'age': 25, 'marital status': 'Single', 'skills': ['HTML', 'Python', 'CSS', 'Java'], 'country': 'Nigeria', 'city': 'Kano'}\n"
     ]
    }
   ],
   "source": [
    "print(student.popitem())\n",
    "\n",
    "print(student)\n",
    "\n",
    "del dog"
   ]
  }
 ],
 "metadata": {
  "kernelspec": {
   "display_name": "Python 3",
   "language": "python",
   "name": "python3"
  },
  "language_info": {
   "codemirror_mode": {
    "name": "ipython",
    "version": 3
   },
   "file_extension": ".py",
   "mimetype": "text/x-python",
   "name": "python",
   "nbconvert_exporter": "python",
   "pygments_lexer": "ipython3",
   "version": "3.11.0"
  },
  "orig_nbformat": 4,
  "vscode": {
   "interpreter": {
    "hash": "2f1a2eacb683bb06bd5c158a4e3bf200b129d414ee0e1c88e9c74e55ea9e8d37"
   }
  }
 },
 "nbformat": 4,
 "nbformat_minor": 2
}
