{
 "cells": [
  {
   "attachments": {},
   "cell_type": "markdown",
   "metadata": {},
   "source": [
    " DAY 4\n",
    " \n",
    " EXERCISE\n",
    " \n",
    " Question(1)"
   ]
  },
  {
   "cell_type": "code",
   "execution_count": 75,
   "metadata": {},
   "outputs": [
    {
     "name": "stdout",
     "output_type": "stream",
     "text": [
      "Thirty  Days  Of  Python\n"
     ]
    }
   ],
   "source": [
    "S1 = 'Thirty'\n",
    "s2 = 'Days'\n",
    "s3 = 'Of'\n",
    "s4 = 'Python'\n",
    "space = '  '\n",
    "\n",
    "print(S1 + space + s2 + space + s3 + space + s4)"
   ]
  },
  {
   "cell_type": "markdown",
   "metadata": {},
   "source": [
    "Question(2)"
   ]
  },
  {
   "cell_type": "code",
   "execution_count": 76,
   "metadata": {},
   "outputs": [
    {
     "name": "stdout",
     "output_type": "stream",
     "text": [
      "Coding  For  All\n"
     ]
    }
   ],
   "source": [
    "st1 = 'Coding'\n",
    "st2 = 'For'\n",
    "st3 = 'All'\n",
    "space = '  '\n",
    "\n",
    "print(st1 + space + st2 + space + st3)"
   ]
  },
  {
   "cell_type": "markdown",
   "metadata": {},
   "source": [
    "Question(3 - 8)"
   ]
  },
  {
   "cell_type": "code",
   "execution_count": 21,
   "metadata": {},
   "outputs": [
    {
     "name": "stdout",
     "output_type": "stream",
     "text": [
      "Coding  For  All\n",
      "16\n",
      "CODING  FOR  ALL\n",
      "coding  for  all\n",
      "Coding  for  all\n",
      "Coding  For  All\n",
      "cODING  fOR  aLL\n"
     ]
    }
   ],
   "source": [
    "company = 'Coding  For  All'\n",
    "print(company)\n",
    "\n",
    "print(len(company))\n",
    "print(company.upper()) #print as upper case\n",
    "print(company.lower()) #print as lower case\n",
    "print(company.capitalize()) #this will capiatalize the first character\n",
    "print(company.title()) #will print as title\n",
    "print(company.swapcase()) #this will swap  "
   ]
  },
  {
   "cell_type": "markdown",
   "metadata": {},
   "source": [
    "Question(9 - 15)"
   ]
  },
  {
   "cell_type": "code",
   "execution_count": 48,
   "metadata": {},
   "outputs": [
    {
     "name": "stdout",
     "output_type": "stream",
     "text": [
      "Coding\n",
      "0\n",
      "Python  For  All\n",
      "Python For All\n",
      "['Coding', 'For', 'All']\n",
      "['Facebook', 'Google', 'Microsoft', 'Apple', 'IBM', 'Oracle', 'Amazon']\n",
      "C\n"
     ]
    }
   ],
   "source": [
    "company = 'Coding  For  All'\n",
    "print(company[0:6]) #this will slice the first word\n",
    "\n",
    "\n",
    "substring = 'Coding'\n",
    "print(company.index(substring)) #output is 0 because the index of where the word 'Coding' start is 0\n",
    "\n",
    "\n",
    "print(company.replace('Coding', 'Python')) #this replace coding with python\n",
    "\n",
    "\n",
    "mystr = 'Python For Everyone'\n",
    "print(mystr.replace('Everyone', 'All')) #this will replace everyone with all\n",
    "\n",
    "\n",
    "print(company.split()) #This will remove white space\n",
    "\n",
    "\n",
    "organization = ' Facebook Google Microsoft Apple IBM Oracle Amazon '\n",
    "print(organization.split()) \n",
    "\n",
    "\n",
    "charactr = 'Coding For All'\n",
    "print(charactr[0]) #The character is 'C'"
   ]
  },
  {
   "cell_type": "markdown",
   "metadata": {},
   "source": [
    "Question (16 - 19)"
   ]
  },
  {
   "cell_type": "code",
   "execution_count": 138,
   "metadata": {},
   "outputs": [
    {
     "name": "stdout",
     "output_type": "stream",
     "text": [
      "16\n",
      "r\n",
      "P F A\n",
      "C F A\n"
     ]
    }
   ],
   "source": [
    "print(len(charactr))\n",
    "\n",
    "\n",
    "\n",
    "print(charactr[10]) #'r' is the  character at index 10\n",
    "\n",
    "\n",
    "\n",
    "acronym = ' PythonForAll ' #This will print the acronym\n",
    "print(acronym[0], acronym[6], acronym[9])\n",
    "\n",
    "\n",
    "\n",
    "\n",
    "acronym1 = 'CodingForAll '\n",
    "print(acronym1[0], acronym1[6], acronym1[9]) #This will print the acronym"
   ]
  },
  {
   "cell_type": "markdown",
   "metadata": {},
   "source": [
    "Question (20 - 27) "
   ]
  },
  {
   "cell_type": "code",
   "execution_count": 73,
   "metadata": {},
   "outputs": [
    {
     "name": "stdout",
     "output_type": "stream",
     "text": [
      "0\n",
      "6\n",
      "3\n",
      "31\n",
      "47\n",
      "because because because\n"
     ]
    }
   ],
   "source": [
    "#finding which index the character belong \n",
    "print(acronym1.find('C'))\n",
    "\n",
    "print(acronym1.find('F'))\n",
    "\n",
    "\n",
    "print(acronym1.rfind('i'))\n",
    "\n",
    "#Finding whether because is in the sentence\n",
    "sentce = 'You cannot end a sentence with because because because is a conjuction'\n",
    "print(sentce.find('because')) \n",
    "\n",
    "\n",
    "print(sentce.rindex('because'))\n",
    "\n",
    "\n",
    "print(sentce[31:54]) \n"
   ]
  },
  {
   "cell_type": "markdown",
   "metadata": {},
   "source": [
    "Question (28 - 30)"
   ]
  },
  {
   "cell_type": "code",
   "execution_count": 83,
   "metadata": {},
   "outputs": [
    {
     "name": "stdout",
     "output_type": "stream",
     "text": [
      "True\n",
      "False\n",
      "Coding For All\n"
     ]
    }
   ],
   "source": [
    "strtwth = 'Coding For All'\n",
    "print(strtwth.startswith('Coding'))\n",
    "\n",
    "print(strtwth.endswith('Coding'))\n",
    "\n",
    "space = '  Coding For All  '\n",
    "print(space.strip())"
   ]
  },
  {
   "cell_type": "markdown",
   "metadata": {},
   "source": [
    "Question (31 - 33)"
   ]
  },
  {
   "cell_type": "code",
   "execution_count": 5,
   "metadata": {},
   "outputs": [
    {
     "name": "stdout",
     "output_type": "stream",
     "text": [
      "False\n",
      "True\n",
      "Django#  Flask#  Bottle#  Pyramid#  Falcon\n",
      "I am enjoying thid challenge \n",
      "I just wonder that is next.\n"
     ]
    }
   ],
   "source": [
    "challenge = '30DaysOfPython'\n",
    "print(challenge.isidentifier()) #This False\n",
    "challenge1 = 'thirty_days_of_python' #this variable retuns true \n",
    "print(challenge1.isidentifier())\n",
    "\n",
    "\n",
    "mylist = ['Django', 'Flask', 'Bottle', 'Pyramid', 'Falcon']\n",
    "result = '#  '.join(mylist)\n",
    "print(result)\n",
    "\n",
    "escape = 'I am enjoying thid challenge \\nI just wonder that is next.'\n",
    "print(escape)"
   ]
  },
  {
   "cell_type": "markdown",
   "metadata": {},
   "source": [
    "Question (34 - 36)"
   ]
  },
  {
   "cell_type": "code",
   "execution_count": 4,
   "metadata": {},
   "outputs": [
    {
     "name": "stdout",
     "output_type": "stream",
     "text": [
      "Name\t        Age\t           Country\t  City\n",
      "Asabeneh\t250\t           Finlang\t          Helsinki\n",
      "________________________________________________________________________________ \n",
      "\n",
      "The area of circle with radius 10 is 314.0 meters square\n",
      "________________________________________________________________________________ \n",
      "\n",
      "8 + 6 = 14\n",
      "8 - 6 = 2\n",
      "8 * 6 = 48\n",
      "8 / 6 = 1.33\n",
      "8 % 6 = 2\n",
      "8 // 6 = 1\n",
      "8 ** 6 = 262144\n"
     ]
    }
   ],
   "source": [
    "print('Name\\t        Age\\t           Country\\t  City')\n",
    "print('Asabeneh\\t250\\t           Finlang\\t          Helsinki')\n",
    "\n",
    "print('__'* 40, '\\n')\n",
    "\n",
    "radius = 10\n",
    "area = 3.14 * radius **2\n",
    "print('The area of circle with radius {} is {} meters square'.format(radius, area))\n",
    "\n",
    "print('__'* 40, '\\n')\n",
    "\n",
    "a = 8\n",
    "b = 6\n",
    "print('{} + {} = {}'.format(a, b, a + b))\n",
    "print('{} - {} = {}'.format(a, b, a - b))\n",
    "print('{} * {} = {}'.format(a, b, a * b))\n",
    "print('{} / {} = {:.2f}'.format(a, b, a / b))\n",
    "print('{} % {} = {}'.format(a, b, a % b))\n",
    "print('{} // {} = {}'.format(a, b, a // b))\n",
    "print('{} ** {} = {}'.format(a, b, a ** b))"
   ]
  }
 ],
 "metadata": {
  "kernelspec": {
   "display_name": "Python 3.11.0 64-bit",
   "language": "python",
   "name": "python3"
  },
  "language_info": {
   "codemirror_mode": {
    "name": "ipython",
    "version": 3
   },
   "file_extension": ".py",
   "mimetype": "text/x-python",
   "name": "python",
   "nbconvert_exporter": "python",
   "pygments_lexer": "ipython3",
   "version": "3.11.0"
  },
  "orig_nbformat": 4,
  "vscode": {
   "interpreter": {
    "hash": "2f1a2eacb683bb06bd5c158a4e3bf200b129d414ee0e1c88e9c74e55ea9e8d37"
   }
  }
 },
 "nbformat": 4,
 "nbformat_minor": 2
}
