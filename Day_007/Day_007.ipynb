{
 "cells": [
  {
   "attachments": {},
   "cell_type": "markdown",
   "metadata": {},
   "source": [
    "DAY 7\n",
    "\n",
    "EXERCISE LEVEL 1\n",
    "\n",
    "Question (1 - 5)"
   ]
  },
  {
   "cell_type": "code",
   "execution_count": 19,
   "metadata": {},
   "outputs": [
    {
     "name": "stdout",
     "output_type": "stream",
     "text": [
      "7\n",
      "{'Microsoft', 'Apple', 'Facebook', 'Oracle', 'IBM', 'Twitter', 'Amazon', 'Google'}\n",
      "{'Facebook', 'IBM', 'Amazon', 'Instagram', 'Apple', 'Google', 'Twitter', 'Microsoft', 'Oracle', 'Telegram'}\n",
      "{'Facebook', 'IBM', 'Instagram', 'Apple', 'Google', 'Twitter', 'Microsoft', 'Oracle', 'Telegram'}\n",
      "{'Facebook', 'IBM', 'Instagram', 'Apple', 'Google', 'Twitter', 'Microsoft', 'Oracle', 'Telegram'}\n"
     ]
    },
    {
     "data": {
      "text/plain": [
       "'The diffrence between Remove and Discard\\n is that Remove raise an Error if the item is not found while\\n  Discard does not '"
      ]
     },
     "execution_count": 19,
     "metadata": {},
     "output_type": "execute_result"
    }
   ],
   "source": [
    "it_companies = {'Facebook', 'Google', 'Microsoft', 'Apple', 'IBM', 'Oracle', 'Amazon'}\n",
    "\n",
    "\n",
    "#Finding the lenght of it_companies\n",
    "print(len(it_companies))\n",
    "\n",
    "#Adding an IT company to the set\n",
    "it_companies.add('Twitter')\n",
    "print(it_companies)\n",
    "\n",
    "#Adding multiple IT company to the set at once\n",
    "it_companies.update(['Instagram', 'Telegram'])\n",
    "print(it_companies)\n",
    "\n",
    "#Removing an IT ccompany from the set\n",
    "it_companies.remove('Amazon')\n",
    "print(it_companies)\n",
    "#same as the above\n",
    "it_companies.discard('Amazon')\n",
    "print(it_companies)\n",
    "\n",
    "\n",
    "'''The diffrence between Remove and Discard\n",
    " is that Remove raise an Error if the item is not found while\n",
    "  Discard does not '''"
   ]
  },
  {
   "attachments": {},
   "cell_type": "markdown",
   "metadata": {},
   "source": [
    "EXERCISE LEVEL 2\n",
    "\n",
    "Question (1 - 7)"
   ]
  },
  {
   "cell_type": "code",
   "execution_count": 24,
   "metadata": {},
   "outputs": [
    {
     "name": "stdout",
     "output_type": "stream",
     "text": [
      "{19, 20, 22, 24, 25, 26, 27, 28}\n",
      "{19, 20, 22, 24, 25, 26}\n",
      "True\n",
      "False\n",
      "{27, 28}\n"
     ]
    }
   ],
   "source": [
    "A = {19, 22, 24, 20, 25, 26}\n",
    "B = {19, 22, 20, 25, 26, 24, 28, 27}\n",
    "\n",
    "union = A.union(B)\n",
    "print(union)\n",
    "\n",
    "intersc = A.intersection(B)\n",
    "print(intersc)\n",
    "\n",
    "subset = A.issubset(B)\n",
    "print(subset)\n",
    "\n",
    "disjoint = A.isdisjoint(B)\n",
    "print(disjoint)\n",
    "\n",
    "#It means (A/B)U(B/A)\n",
    "SD = A.symmetric_difference(B)\n",
    "print(SD)\n",
    "\n",
    "\n",
    "del A, B\n"
   ]
  },
  {
   "attachments": {},
   "cell_type": "markdown",
   "metadata": {},
   "source": [
    "EXERCISE LEVEL THREE\n",
    "\n",
    "Question (1)"
   ]
  },
  {
   "cell_type": "code",
   "execution_count": 33,
   "metadata": {},
   "outputs": [
    {
     "name": "stdout",
     "output_type": "stream",
     "text": [
      "The lenght of the list is :  8\n",
      "The lenght of the set is :  5\n",
      "Lenght of list is bigger\n"
     ]
    }
   ],
   "source": [
    "age = [22, 19, 24, 25, 26, 24, 25, 24]\n",
    "lenght_of_list = len(age) \n",
    "print( 'The lenght of the list is : ', len(age)) \n",
    "\n",
    "\n",
    "age = set(age)\n",
    "lenght_of_set = len(age) \n",
    "print('The lenght of the set is : ', len(age))\n",
    "\n",
    "if lenght_of_list > lenght_of_set:\n",
    "    print('Lenght of list is bigger')\n",
    "else:\n",
    "    print('lenght of set is bigger')"
   ]
  },
  {
   "attachments": {},
   "cell_type": "markdown",
   "metadata": {},
   "source": [
    "Question (2 - 3)"
   ]
  },
  {
   "cell_type": "code",
   "execution_count": 43,
   "metadata": {},
   "outputs": [
    {
     "name": "stdout",
     "output_type": "stream",
     "text": [
      "teacher\n",
      "love\n",
      "to\n",
      "am\n",
      "a\n",
      "I\n",
      "inspire\n",
      "teach\n",
      "people\n",
      "and\n"
     ]
    }
   ],
   "source": [
    "'''List is a collection which is ordered and changeable \n",
    "that allow user to store multiple item in a single variable.. Allows duplicate members, \n",
    "and is enclose with square bracket.'''\n",
    "#e.g\n",
    "my_l = [22, 19, 24, 25, 26, 24, 25, 24]\n",
    "    \n",
    "\n",
    "'''Tuple is a collection which is ordered and unchangeable, \n",
    "that allow user to store multiple item in a single variable. Allows duplicate members \n",
    "and is enclose with round bracket.'''\n",
    "\n",
    "#e.g\n",
    "my_t = (22, 19, 24, 25, 26, 24, 25, 24)\n",
    "\n",
    "'''Set is a collection which is unordered, unchangeable*, and unindexed \n",
    "that allow user to store multiple item in a single variable. No duplicate members\n",
    "and is enclose with curly bracket..'''\n",
    "\n",
    "#e.g\n",
    "my_t = {22, 19, 24, 25, 26, 24, 25, 24}\n",
    "\n",
    "'''Dictionary is a collection which is ordered** and changeable. No duplicate members \n",
    "and it contains keys and values.'''\n",
    "#e.g\n",
    "my_t = {'name': 'Ali',\n",
    "         'age': 25, \n",
    "         'city': 'Kano'}\n",
    "\n",
    "\n",
    "#printing out unique words from the string\n",
    "str = 'I am a teacher and I love to inspire and teach people'\n",
    "s = set(str.split(\" \"))\n",
    "\n",
    "for i in s:\n",
    "    print(i)"
   ]
  }
 ],
 "metadata": {
  "kernelspec": {
   "display_name": "Python 3",
   "language": "python",
   "name": "python3"
  },
  "language_info": {
   "codemirror_mode": {
    "name": "ipython",
    "version": 3
   },
   "file_extension": ".py",
   "mimetype": "text/x-python",
   "name": "python",
   "nbconvert_exporter": "python",
   "pygments_lexer": "ipython3",
   "version": "3.11.0"
  },
  "orig_nbformat": 4,
  "vscode": {
   "interpreter": {
    "hash": "2f1a2eacb683bb06bd5c158a4e3bf200b129d414ee0e1c88e9c74e55ea9e8d37"
   }
  }
 },
 "nbformat": 4,
 "nbformat_minor": 2
}
