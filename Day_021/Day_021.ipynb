{
 "cells": [
  {
   "attachments": {},
   "cell_type": "markdown",
   "metadata": {},
   "source": [
    "## DAY 21\n",
    "### EXERCISES"
   ]
  },
  {
   "attachments": {},
   "cell_type": "markdown",
   "metadata": {},
   "source": [
    "**Questions (1)**<br>\n",
    "Python has the module called statistics and we can use this module to do all the statistical calculations. However, to learn how to make function and reuse function let us try to develop a program, which calculates the measure of central tendency of a sample (mean, median, mode) and measure of variability (range, variance, standard deviation). In addition to those measures, find the min, max, count, percentile, and frequency distribution of the sample. You can create a class called Statistics and create all the functions that do statistical calculations as methods for the Statistics class. Check the output below.<br>\n",
    "ages = [31, 26, 34, 37, 27, 26, 32, 32, 26, 27, 27, 24, 32, 33, 27, 25, 26, 38, 37, 31, 34, 24, 33, 29, 26]<br>\n",
    "\n",
    "* print('Count:', data.count()) # 25\n",
    "* print('Sum: ', data.sum()) # 744\n",
    "* print('Min: ', data.min()) # 24print('Max: ', data.max()) # 38<\n",
    "* print('Range: ', data.range() # 14\n",
    "* print('Mean: ', data.mean()) # 30\n",
    "* print('Median: ', data.median()) # 29\n",
    "* print('Mode: ', data.mode()) # {'mode': 26, 'count': 5}\n",
    "* print('Standard Deviation: ', data.std()) # 4.2\n",
    "* print('Variance: ', data.var()) # 17.5\n",
    "* print('Frequency Distribution: ', data.freq_dist()) # [(20.0, 26), (16.0, 27), (12.0, 32), (8.0, 37), (8.0, 34), (8.0, 33), (8.0, 31), (8.0, 24), (4.0, 38), (4.0, 29), (4.0, 25)]<br>\n",
    "you output should look like this\n",
    "print(data.describe())<br>\n",
    "Count: 25<br>\n",
    "Sum:  744<br>\n",
    "Min:  24<br>\n",
    "Max:  38<br>\n",
    "Range:  14<br>\n",
    "Mean:  30<br>\n",
    "Median:  29<br>\n",
    "Mode:  (26, 5)<br>\n",
    "Variance:  17.5<br>\n",
    "Standard Deviation:  4.2<br>\n",
    "Frequency Distribution: [(20.0, 26), (16.0, 27), (12.0, 32), (8.0, 37), (8.0, 34), (8.0, 33), (8.0, 31), (8.0, 24), (4.0, 38), (4.0, 29), (4.0, 25)]"
   ]
  },
  {
   "cell_type": "code",
   "execution_count": 6,
   "metadata": {},
   "outputs": [
    {
     "name": "stdout",
     "output_type": "stream",
     "text": [
      "Count: 25\n",
      "Sum:  744\n",
      "Min:  24\n",
      "Max:  38\n",
      "Range:  14\n",
      "Mean:  29.76\n",
      "Median:  29\n",
      "Mode:  (26, 5)\n",
      "Variance:  18.273333333333333\n",
      "Standard Deviation:  4.2747319604079665\n",
      "Frequency Distribution:  [(5, 26), (4, 27), (3, 32), (2, 37), (2, 34), (2, 33), (2, 31), (2, 24), (1, 38), (1, 29), (1, 25)]\n"
     ]
    }
   ],
   "source": [
    "import statistics as stats\n",
    "ages = [31, 26, 34, 37, 27, 26, 32, 32, 26, 27, 27, 24, 32, 33, 27, 25, 26, 38, 37, 31, 34, 24, 33, 29, 26]\n",
    "class Statistics:\n",
    "    def __init__(self, D):\n",
    "        self.D = D\n",
    "    def count(self):\n",
    "        return len(self.D)\n",
    "    \n",
    "    def sum(self):\n",
    "        return sum(self.D)\n",
    "    \n",
    "    def min(self):\n",
    "        return min(self.D)\n",
    "    \n",
    "    def max(self):\n",
    "        return max(self.D)\n",
    "\n",
    "    def range(self):\n",
    "        return self.max() - self.min()\n",
    "    \n",
    "    def mean(self):\n",
    "        return stats.mean(self.D)\n",
    "\n",
    "    def median(self):\n",
    "        return stats.median(self.D)\n",
    "    \n",
    "    def mode(self):\n",
    "        '''Returns the mode and the count of the data'''\n",
    "        mode = stats.mode(self.D)\n",
    "        count = self.D.count(mode)\n",
    "        return (mode, count)\n",
    "\n",
    "    def var(self):\n",
    "        '''Returns the variance'''\n",
    "        return stats.variance(self.D)\n",
    "\n",
    "    def std(self):\n",
    "        '''Returns the standard deviation'''\n",
    "        return stats.stdev(self.D)\n",
    "\n",
    "    def freq_dist(self):\n",
    "        frequency_dict = {}\n",
    "        for i in self.D:\n",
    "            if i in frequency_dict:\n",
    "                frequency_dict[i] += 1\n",
    "            else:\n",
    "                frequency_dict[i] = 1\n",
    "        frequency_list = [(value, key) for key, value in frequency_dict.items()]\n",
    "        frequency_list.sort(reverse=True)\n",
    "        return frequency_list\n",
    "\n",
    "    def describe(self):\n",
    "        print('Count:', self.count())\n",
    "        print('Sum: ', self.sum())\n",
    "        print('Min: ', self.min())\n",
    "        print('Max: ', self.max())\n",
    "        print('Range: ', self.range())\n",
    "        print('Mean: ', self.mean())\n",
    "        print('Median: ', self.median())\n",
    "        print('Mode: ', self.mode())\n",
    "        print('Variance: ', self.var())\n",
    "        print('Standard Deviation: ', self.std())\n",
    "        print('Frequency Distribution: ', self.freq_dist())\n",
    "# implementation\n",
    "data = Statistics(ages)\n",
    "data.describe()"
   ]
  },
  {
   "attachments": {},
   "cell_type": "markdown",
   "metadata": {},
   "source": [
    "### EXERCISE LEVEL 2\n",
    "**Qustion (1)**\n",
    "Create a class called PersonAccount. It has firstname, lastname, incomes, expenses properties and it has total_income, total_expense, account_info, add_income, add_expense and account_balance methods. Incomes is a set of incomes and its description. The same goes for expenses."
   ]
  },
  {
   "cell_type": "code",
   "execution_count": 20,
   "metadata": {},
   "outputs": [
    {
     "name": "stdout",
     "output_type": "stream",
     "text": [
      "Full_name: Mahmud  Mahmud\n",
      "Incomes:  [(30000, 'salary'), (20000, 'bonus')]\n",
      "Expenses:  [(2000, 'rice'), (1000, 'beans')]\n",
      "Total Income:  50000\n",
      "Total Expense:  3000\n",
      "Account Balance:  47000\n"
     ]
    }
   ],
   "source": [
    "class PersonAccount:\n",
    "    def __init__(self, first_name, last_name):\n",
    "      self.first_name = first_name\n",
    "      self.last_name = last_name\n",
    "      self.incomes = []\n",
    "      self.expense = []\n",
    "      \n",
    "    def add_income(self, amount, discription):\n",
    "     self.incomes.append((amount, discription))\n",
    "     \n",
    "    def add_expense(self, amount, discription):\n",
    "      self.expense.append((amount, discription))\n",
    "      \n",
    "    def total_income(self):\n",
    "      total = 0\t\n",
    "      for income in self.incomes:\n",
    "        total += income[0]\n",
    "      return total\n",
    "      \n",
    "\t  \n",
    "      \n",
    "    def total_expense(self):\n",
    "      total = 0\n",
    "      for expense in self.expense:\n",
    "        total += expense[0]\n",
    "      return total\n",
    "      \n",
    " \n",
    "    def account_balance(self):\n",
    "      return self.total_income() - self.total_expense()\n",
    "    \n",
    "    def acount_info(self):\n",
    "      print(f\"Full_name: {self.first_name}  {self.last_name}\")\n",
    "      print(\"Incomes: \", self.incomes)\n",
    "      print(\"Expenses: \", self.expense)\n",
    "      print(\"Total Income: \", self.total_income())\n",
    "      print(\"Total Expense: \", self.total_expense())\n",
    "      print(\"Account Balance: \", self.account_balance())\n",
    "      \n",
    "account = PersonAccount('Mahmud', 'Mahmud' )\n",
    "account.add_income(30000, 'salary')\n",
    "account.add_income(20000, 'bonus')\n",
    "\n",
    "account.add_expense(2000, 'rice')\n",
    "account.add_expense(1000, 'beans')\n",
    "\n",
    "account.acount_info()\n",
    "        "
   ]
  }
 ],
 "metadata": {
  "kernelspec": {
   "display_name": "Python 3",
   "language": "python",
   "name": "python3"
  },
  "language_info": {
   "codemirror_mode": {
    "name": "ipython",
    "version": 3
   },
   "file_extension": ".py",
   "mimetype": "text/x-python",
   "name": "python",
   "nbconvert_exporter": "python",
   "pygments_lexer": "ipython3",
   "version": "3.10.8"
  },
  "orig_nbformat": 4,
  "vscode": {
   "interpreter": {
    "hash": "fa2bdf7561d8d60c40fbb5bf830ea182e95f6f248050aed925ff7a2119deb876"
   }
  }
 },
 "nbformat": 4,
 "nbformat_minor": 2
}
