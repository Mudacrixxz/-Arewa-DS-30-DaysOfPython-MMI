{
 "cells": [
  {
   "attachments": {},
   "cell_type": "markdown",
   "metadata": {},
   "source": [
    "# DAY 16\n",
    "\n",
    "## EXERCISES"
   ]
  },
  {
   "attachments": {},
   "cell_type": "markdown",
   "metadata": {},
   "source": [
    "**Question (1)**\n",
    "\n",
    "Get the current day, month, year, hour, minute and timestamp from datetime module"
   ]
  },
  {
   "cell_type": "code",
   "execution_count": 1,
   "metadata": {},
   "outputs": [],
   "source": [
    "# importing the required functions\n",
    "from datetime import datetime,date,time,timedelta"
   ]
  },
  {
   "cell_type": "code",
   "execution_count": 4,
   "metadata": {},
   "outputs": [
    {
     "name": "stdout",
     "output_type": "stream",
     "text": [
      "now: 2023-02-20 20:54:16.741553\n",
      "day: 20\n",
      "year: 2023\n",
      "hour: 20 minute: 54\n",
      "timestamp:<built-in method timestamp of datetime.datetime object at 0x000000C2FFF10330>\n"
     ]
    }
   ],
   "source": [
    "now = datetime.now()\n",
    "day = now.day\n",
    "month = now.month\n",
    "year = now.year\n",
    "hour = now.hour\n",
    "minute = now.minute\n",
    "timestamp = now.timestamp()\n",
    "print(f'now: {now}\\nday: {now.day}\\nyear: {now.year}\\nhour: {now.hour} minute: {now.minute}\\ntimestamp:{now.timestamp}')"
   ]
  },
  {
   "attachments": {},
   "cell_type": "markdown",
   "metadata": {},
   "source": [
    "**Question (2)**\n",
    "\n",
    "Format the current date using this format: \"%m/%d/%Y, %H:%M:%S\")"
   ]
  },
  {
   "cell_type": "code",
   "execution_count": 8,
   "metadata": {},
   "outputs": [
    {
     "name": "stdout",
     "output_type": "stream",
     "text": [
      "date: 20/02/2023\t time: 20:54:16\n"
     ]
    }
   ],
   "source": [
    "td = now.strftime(\"date: %d/%m/%Y\\t time: %H:%M:%S\")\n",
    "print(td)"
   ]
  },
  {
   "attachments": {},
   "cell_type": "markdown",
   "metadata": {},
   "source": [
    "**Question (3)**\n",
    "\n",
    "Today is 5 December, 2019. Change this time string to time."
   ]
  },
  {
   "cell_type": "code",
   "execution_count": 9,
   "metadata": {},
   "outputs": [
    {
     "name": "stdout",
     "output_type": "stream",
     "text": [
      "date_string = 5 December, 2019\n",
      "date_object = 2019-12-05 00:00:00\n"
     ]
    }
   ],
   "source": [
    "\n",
    "date_string = \"5 December, 2019\"\n",
    "print(f'Date_string =', {date_string})\n",
    "date_object = datetime.strptime(date_string, \"%d %B, %Y\")\n",
    "print(\"date_object =\", date_object)"
   ]
  },
  {
   "attachments": {},
   "cell_type": "markdown",
   "metadata": {},
   "source": [
    "**Question (4)**\n",
    "\n",
    "Calculate the time difference between now and new year."
   ]
  },
  {
   "cell_type": "code",
   "execution_count": 11,
   "metadata": {},
   "outputs": [
    {
     "name": "stdout",
     "output_type": "stream",
     "text": [
      "Time difference between now and new year is: 315 days, 0:00:00 \n"
     ]
    }
   ],
   "source": [
    "today = date(2023,2,20)\n",
    "new_year = date(2024,1,1)\n",
    "today_to_new_year = new_year - today\n",
    "print(f'Time difference between now and new year is: {today_to_new_year} ')"
   ]
  },
  {
   "attachments": {},
   "cell_type": "markdown",
   "metadata": {},
   "source": [
    "**Question (5)**\n",
    "\n",
    "Calculate the time difference between 1 January 1970 and now."
   ]
  },
  {
   "cell_type": "code",
   "execution_count": 15,
   "metadata": {},
   "outputs": [
    {
     "name": "stdout",
     "output_type": "stream",
     "text": [
      "The time difference between now and 1 January, 1970,midnight in seconds is 1676922856.741553\n",
      " \n",
      "The time difference in days: 19408 days, 0:00:00\n"
     ]
    }
   ],
   "source": [
    "\n",
    "'''\n",
    "Option 1: Getting the time difference in seconds\n",
    "This is the timestamp already calculated above\n",
    "'''\n",
    "print(f'The time difference between now and 1 January, 1970,midnight in seconds is {timestamp}\\n ')\n",
    "\n",
    "'''\n",
    "Option 2: Getting the time difference in days\n",
    "I have already assigned the current year,month and day from above\n",
    "'''\n",
    "print(f'The time difference in days: {date(year,month,day) - date(1970,1,1)}') #19000 plus day"
   ]
  },
  {
   "attachments": {},
   "cell_type": "markdown",
   "metadata": {},
   "source": [
    "**Question (6)**\n",
    "\n",
    "Think, what can you use the datetime module for? Examples:\n",
    "\n",
    "* Time series analysis\n",
    "* To get a timestamp of any activities in an application\n",
    "* Adding posts on a blog\n",
    "* So many possibilities but somehow lubridate (R's tidyverse) is much better than what I am seeing here."
   ]
  }
 ],
 "metadata": {
  "kernelspec": {
   "display_name": "Python 3",
   "language": "python",
   "name": "python3"
  },
  "language_info": {
   "codemirror_mode": {
    "name": "ipython",
    "version": 3
   },
   "file_extension": ".py",
   "mimetype": "text/x-python",
   "name": "python",
   "nbconvert_exporter": "python",
   "pygments_lexer": "ipython3",
   "version": "3.11.0"
  },
  "orig_nbformat": 4,
  "vscode": {
   "interpreter": {
    "hash": "2f1a2eacb683bb06bd5c158a4e3bf200b129d414ee0e1c88e9c74e55ea9e8d37"
   }
  }
 },
 "nbformat": 4,
 "nbformat_minor": 2
}
